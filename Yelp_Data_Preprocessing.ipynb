{
 "cells": [
  {
   "cell_type": "markdown",
   "metadata": {},
   "source": [
    "# Yelp Data Challenge - Data Preprocessing\n",
    "\n"
   ]
  },
  {
   "cell_type": "markdown",
   "metadata": {},
   "source": [
    "## Dataset Introduction\n",
    "\n",
    "[Yelp Dataset Challenge](https://www.yelp.com/dataset_challenge)\n",
    "\n",
    "The Challenge Dataset:\n",
    "\n",
    "    4.1M reviews and 947K tips by 1M users for 144K businesses\n",
    "    1.1M business attributes, e.g., hours, parking availability, ambience.\n",
    "    Aggregated check-ins over time for each of the 125K businesses\n",
    "    200,000 pictures from the included businesses\n",
    "\n",
    "Cities:\n",
    "\n",
    "    U.K.: Edinburgh\n",
    "    Germany: Karlsruhe\n",
    "    Canada: Montreal and Waterloo\n",
    "    U.S.: Pittsburgh, Charlotte, Urbana-Champaign, Phoenix, Las Vegas, Madison, Cleveland\n",
    "\n",
    "Files:\n",
    "\n",
    "    yelp_academic_dataset_business.json\n",
    "    yelp_academic_dataset_checkin.json\n",
    "    yelp_academic_dataset_review.json\n",
    "    yelp_academic_dataset_tip.json\n",
    "    yelp_academic_dataset_user.json\n",
    "\n"
   ]
  },
  {
   "cell_type": "markdown",
   "metadata": {},
   "source": [
    "## Read data from file and load to Pandas DataFrame, Combine some \n",
    "\n",
    "## tables for further analysis\n"
   ]
  },
  {
   "cell_type": "code",
   "execution_count": 1,
   "metadata": {
    "collapsed": true
   },
   "outputs": [],
   "source": [
    "import json\n",
    "import pandas as pd\n"
   ]
  },
  {
   "cell_type": "code",
   "execution_count": 2,
   "metadata": {
    "collapsed": true
   },
   "outputs": [],
   "source": [
    "import tarfile\n",
    "tar=tarfile.open('yelp_dataset.tar')"
   ]
  },
  {
   "cell_type": "code",
   "execution_count": 9,
   "metadata": {},
   "outputs": [
    {
     "data": {
      "text/plain": [
       "[<TarInfo './._Dataset_Challenge_Dataset_Agreement.pdf' at 0x7f05f76b9368>,\n",
       " <TarInfo 'Dataset_Challenge_Dataset_Agreement.pdf' at 0x7f05f76b92a0>,\n",
       " <TarInfo './._Yelp_Dataset_Challenge_Round_12.pdf' at 0x7f05f76b9430>,\n",
       " <TarInfo 'Yelp_Dataset_Challenge_Round_12.pdf' at 0x7f05f76b94f8>,\n",
       " <TarInfo 'yelp_academic_dataset_business.json' at 0x7f05f76b95c0>,\n",
       " <TarInfo 'yelp_academic_dataset_checkin.json' at 0x7f05f76b9688>,\n",
       " <TarInfo 'yelp_academic_dataset_photo.json' at 0x7f05f76b9750>,\n",
       " <TarInfo 'yelp_academic_dataset_review.json' at 0x7f05f76b9818>,\n",
       " <TarInfo 'yelp_academic_dataset_tip.json' at 0x7f05f76b98e0>,\n",
       " <TarInfo 'yelp_academic_dataset_user.json' at 0x7f05f76b99a8>]"
      ]
     },
     "execution_count": 9,
     "metadata": {},
     "output_type": "execute_result"
    }
   ],
   "source": [
    "tar.getmembers()"
   ]
  },
  {
   "cell_type": "code",
   "execution_count": 11,
   "metadata": {
    "collapsed": true
   },
   "outputs": [],
   "source": [
    "f=tar.extractfile('yelp_academic_dataset_business.json')"
   ]
  },
  {
   "cell_type": "code",
   "execution_count": 14,
   "metadata": {},
   "outputs": [
    {
     "data": {
      "text/plain": [
       "tarfile.ExFileObject"
      ]
     },
     "execution_count": 14,
     "metadata": {},
     "output_type": "execute_result"
    }
   ],
   "source": [
    "type(f)"
   ]
  },
  {
   "cell_type": "code",
   "execution_count": 4,
   "metadata": {
    "collapsed": true
   },
   "outputs": [],
   "source": [
    "for m in tar.getmembers():\n",
    "    f=tar.extractfile(m)\n",
    "    content=f.read()\n",
    "    "
   ]
  },
  {
   "cell_type": "code",
   "execution_count": 7,
   "metadata": {},
   "outputs": [
    {
     "data": {
      "text/plain": [
       "<bound method TarFile.close of <tarfile.TarFile object at 0x7f05f76bf2e8>>"
      ]
     },
     "execution_count": 7,
     "metadata": {},
     "output_type": "execute_result"
    }
   ],
   "source": [
    "tar.extractall()\n",
    "tar.close"
   ]
  },
  {
   "cell_type": "code",
   "execution_count": 6,
   "metadata": {
    "collapsed": true
   },
   "outputs": [],
   "source": [
    "file_business, file_checkin, file_review, file_tip, file_user = [\n",
    "    'yelp_academic_dataset_business.json',\n",
    "    'yelp_academic_dataset_checkin.json',\n",
    "    'yelp_academic_dataset_review.json',\n",
    "    'yelp_academic_dataset_tip.json',\n",
    "    'yelp_academic_dataset_user.json'\n",
    "]"
   ]
  },
  {
   "cell_type": "code",
   "execution_count": 4,
   "metadata": {
    "collapsed": true
   },
   "outputs": [],
   "source": [
    "import os\n",
    "cwd=os.getcwd()"
   ]
  },
  {
   "cell_type": "code",
   "execution_count": 5,
   "metadata": {},
   "outputs": [
    {
     "data": {
      "text/plain": [
       "'/Users/yichu/Documents/bittiger_1803_new/BitTiger-DS501-1803/Homework/Yelp_Data_Challenge_Project/code'"
      ]
     },
     "execution_count": 5,
     "metadata": {},
     "output_type": "execute_result"
    }
   ],
   "source": [
    "cwd"
   ]
  },
  {
   "cell_type": "markdown",
   "metadata": {},
   "source": [
    "#### Business Data"
   ]
  },
  {
   "cell_type": "code",
   "execution_count": 16,
   "metadata": {
    "collapsed": true
   },
   "outputs": [],
   "source": [
    "with open(file_business) as f:\n",
    "    df_business = pd.DataFrame(json.loads(line) for line in f)"
   ]
  },
  {
   "cell_type": "code",
   "execution_count": null,
   "metadata": {
    "collapsed": true
   },
   "outputs": [],
   "source": []
  },
  {
   "cell_type": "code",
   "execution_count": 17,
   "metadata": {},
   "outputs": [
    {
     "data": {
      "text/html": [
       "<div>\n",
       "<style>\n",
       "    .dataframe thead tr:only-child th {\n",
       "        text-align: right;\n",
       "    }\n",
       "\n",
       "    .dataframe thead th {\n",
       "        text-align: left;\n",
       "    }\n",
       "\n",
       "    .dataframe tbody tr th {\n",
       "        vertical-align: top;\n",
       "    }\n",
       "</style>\n",
       "<table border=\"1\" class=\"dataframe\">\n",
       "  <thead>\n",
       "    <tr style=\"text-align: right;\">\n",
       "      <th></th>\n",
       "      <th>address</th>\n",
       "      <th>attributes</th>\n",
       "      <th>business_id</th>\n",
       "      <th>categories</th>\n",
       "      <th>city</th>\n",
       "      <th>hours</th>\n",
       "      <th>is_open</th>\n",
       "      <th>latitude</th>\n",
       "      <th>longitude</th>\n",
       "      <th>name</th>\n",
       "      <th>neighborhood</th>\n",
       "      <th>postal_code</th>\n",
       "      <th>review_count</th>\n",
       "      <th>stars</th>\n",
       "      <th>state</th>\n",
       "    </tr>\n",
       "  </thead>\n",
       "  <tbody>\n",
       "    <tr>\n",
       "      <th>0</th>\n",
       "      <td>1314 44 Avenue NE</td>\n",
       "      <td>{'BikeParking': 'False', 'BusinessAcceptsCredi...</td>\n",
       "      <td>Apn5Q_b6Nz61Tq4XzPdf9A</td>\n",
       "      <td>Tours, Breweries, Pizza, Restaurants, Food, Ho...</td>\n",
       "      <td>Calgary</td>\n",
       "      <td>{'Monday': '8:30-17:0', 'Tuesday': '11:0-21:0'...</td>\n",
       "      <td>1</td>\n",
       "      <td>51.091813</td>\n",
       "      <td>-114.031675</td>\n",
       "      <td>Minhas Micro Brewery</td>\n",
       "      <td></td>\n",
       "      <td>T2E 6L6</td>\n",
       "      <td>24</td>\n",
       "      <td>4.0</td>\n",
       "      <td>AB</td>\n",
       "    </tr>\n",
       "    <tr>\n",
       "      <th>1</th>\n",
       "      <td></td>\n",
       "      <td>{'Alcohol': 'none', 'BikeParking': 'False', 'B...</td>\n",
       "      <td>AjEbIBw6ZFfln7ePHha9PA</td>\n",
       "      <td>Chicken Wings, Burgers, Caterers, Street Vendo...</td>\n",
       "      <td>Henderson</td>\n",
       "      <td>{'Friday': '17:0-23:0', 'Saturday': '17:0-23:0...</td>\n",
       "      <td>0</td>\n",
       "      <td>35.960734</td>\n",
       "      <td>-114.939821</td>\n",
       "      <td>CK'S BBQ &amp; Catering</td>\n",
       "      <td></td>\n",
       "      <td>89002</td>\n",
       "      <td>3</td>\n",
       "      <td>4.5</td>\n",
       "      <td>NV</td>\n",
       "    </tr>\n",
       "  </tbody>\n",
       "</table>\n",
       "</div>"
      ],
      "text/plain": [
       "             address                                         attributes  \\\n",
       "0  1314 44 Avenue NE  {'BikeParking': 'False', 'BusinessAcceptsCredi...   \n",
       "1                     {'Alcohol': 'none', 'BikeParking': 'False', 'B...   \n",
       "\n",
       "              business_id                                         categories  \\\n",
       "0  Apn5Q_b6Nz61Tq4XzPdf9A  Tours, Breweries, Pizza, Restaurants, Food, Ho...   \n",
       "1  AjEbIBw6ZFfln7ePHha9PA  Chicken Wings, Burgers, Caterers, Street Vendo...   \n",
       "\n",
       "        city                                              hours  is_open  \\\n",
       "0    Calgary  {'Monday': '8:30-17:0', 'Tuesday': '11:0-21:0'...        1   \n",
       "1  Henderson  {'Friday': '17:0-23:0', 'Saturday': '17:0-23:0...        0   \n",
       "\n",
       "    latitude   longitude                  name neighborhood postal_code  \\\n",
       "0  51.091813 -114.031675  Minhas Micro Brewery                  T2E 6L6   \n",
       "1  35.960734 -114.939821   CK'S BBQ & Catering                    89002   \n",
       "\n",
       "   review_count  stars state  \n",
       "0            24    4.0    AB  \n",
       "1             3    4.5    NV  "
      ]
     },
     "execution_count": 17,
     "metadata": {},
     "output_type": "execute_result"
    }
   ],
   "source": [
    "df_business.head(2)"
   ]
  },
  {
   "cell_type": "code",
   "execution_count": 19,
   "metadata": {},
   "outputs": [
    {
     "data": {
      "text/plain": [
       "(188593, 15)"
      ]
     },
     "execution_count": 19,
     "metadata": {},
     "output_type": "execute_result"
    }
   ],
   "source": [
    "df_business.shape"
   ]
  },
  {
   "cell_type": "markdown",
   "metadata": {},
   "source": [
    "#### Checking Data"
   ]
  },
  {
   "cell_type": "code",
   "execution_count": 21,
   "metadata": {},
   "outputs": [
    {
     "data": {
      "text/html": [
       "<div>\n",
       "<style>\n",
       "    .dataframe thead tr:only-child th {\n",
       "        text-align: right;\n",
       "    }\n",
       "\n",
       "    .dataframe thead th {\n",
       "        text-align: left;\n",
       "    }\n",
       "\n",
       "    .dataframe tbody tr th {\n",
       "        vertical-align: top;\n",
       "    }\n",
       "</style>\n",
       "<table border=\"1\" class=\"dataframe\">\n",
       "  <thead>\n",
       "    <tr style=\"text-align: right;\">\n",
       "      <th></th>\n",
       "      <th>business_id</th>\n",
       "      <th>time</th>\n",
       "    </tr>\n",
       "  </thead>\n",
       "  <tbody>\n",
       "    <tr>\n",
       "      <th>0</th>\n",
       "      <td>7KPBkxAOEtb3QeIL9PEErg</td>\n",
       "      <td>{'Fri-0': 2, 'Sat-0': 1, 'Sun-0': 1, 'Wed-0': ...</td>\n",
       "    </tr>\n",
       "    <tr>\n",
       "      <th>1</th>\n",
       "      <td>kREVIrSBbtqBhIYkTccQUg</td>\n",
       "      <td>{'Mon-13': 1, 'Thu-13': 1, 'Sat-16': 1, 'Wed-1...</td>\n",
       "    </tr>\n",
       "  </tbody>\n",
       "</table>\n",
       "</div>"
      ],
      "text/plain": [
       "              business_id                                               time\n",
       "0  7KPBkxAOEtb3QeIL9PEErg  {'Fri-0': 2, 'Sat-0': 1, 'Sun-0': 1, 'Wed-0': ...\n",
       "1  kREVIrSBbtqBhIYkTccQUg  {'Mon-13': 1, 'Thu-13': 1, 'Sat-16': 1, 'Wed-1..."
      ]
     },
     "execution_count": 21,
     "metadata": {},
     "output_type": "execute_result"
    }
   ],
   "source": [
    "with open(file_checkin) as f:\n",
    "    df_checkin = pd.DataFrame(json.loads(line) for line in f)\n",
    "df_checkin.head(2)"
   ]
  },
  {
   "cell_type": "code",
   "execution_count": 22,
   "metadata": {},
   "outputs": [
    {
     "data": {
      "text/plain": [
       "(157075, 2)"
      ]
     },
     "execution_count": 22,
     "metadata": {},
     "output_type": "execute_result"
    }
   ],
   "source": [
    "df_checkin.shape"
   ]
  },
  {
   "cell_type": "code",
   "execution_count": null,
   "metadata": {
    "collapsed": true
   },
   "outputs": [],
   "source": [
    "#shape different from business data"
   ]
  },
  {
   "cell_type": "markdown",
   "metadata": {},
   "source": [
    "#### Review Data"
   ]
  },
  {
   "cell_type": "code",
   "execution_count": 23,
   "metadata": {},
   "outputs": [
    {
     "data": {
      "text/html": [
       "<div>\n",
       "<style>\n",
       "    .dataframe thead tr:only-child th {\n",
       "        text-align: right;\n",
       "    }\n",
       "\n",
       "    .dataframe thead th {\n",
       "        text-align: left;\n",
       "    }\n",
       "\n",
       "    .dataframe tbody tr th {\n",
       "        vertical-align: top;\n",
       "    }\n",
       "</style>\n",
       "<table border=\"1\" class=\"dataframe\">\n",
       "  <thead>\n",
       "    <tr style=\"text-align: right;\">\n",
       "      <th></th>\n",
       "      <th>business_id</th>\n",
       "      <th>cool</th>\n",
       "      <th>date</th>\n",
       "      <th>funny</th>\n",
       "      <th>review_id</th>\n",
       "      <th>stars</th>\n",
       "      <th>text</th>\n",
       "      <th>useful</th>\n",
       "      <th>user_id</th>\n",
       "    </tr>\n",
       "  </thead>\n",
       "  <tbody>\n",
       "    <tr>\n",
       "      <th>0</th>\n",
       "      <td>iCQpiavjjPzJ5_3gPD5Ebg</td>\n",
       "      <td>0</td>\n",
       "      <td>2011-02-25</td>\n",
       "      <td>0</td>\n",
       "      <td>x7mDIiDB3jEiPGPHOmDzyw</td>\n",
       "      <td>2</td>\n",
       "      <td>The pizza was okay. Not the best I've had. I p...</td>\n",
       "      <td>0</td>\n",
       "      <td>msQe1u7Z_XuqjGoqhB0J5g</td>\n",
       "    </tr>\n",
       "    <tr>\n",
       "      <th>1</th>\n",
       "      <td>pomGBqfbxcqPv14c3XH-ZQ</td>\n",
       "      <td>0</td>\n",
       "      <td>2012-11-13</td>\n",
       "      <td>0</td>\n",
       "      <td>dDl8zu1vWPdKGihJrwQbpw</td>\n",
       "      <td>5</td>\n",
       "      <td>I love this place! My fiance And I go here atl...</td>\n",
       "      <td>0</td>\n",
       "      <td>msQe1u7Z_XuqjGoqhB0J5g</td>\n",
       "    </tr>\n",
       "  </tbody>\n",
       "</table>\n",
       "</div>"
      ],
      "text/plain": [
       "              business_id  cool        date  funny               review_id  \\\n",
       "0  iCQpiavjjPzJ5_3gPD5Ebg     0  2011-02-25      0  x7mDIiDB3jEiPGPHOmDzyw   \n",
       "1  pomGBqfbxcqPv14c3XH-ZQ     0  2012-11-13      0  dDl8zu1vWPdKGihJrwQbpw   \n",
       "\n",
       "   stars                                               text  useful  \\\n",
       "0      2  The pizza was okay. Not the best I've had. I p...       0   \n",
       "1      5  I love this place! My fiance And I go here atl...       0   \n",
       "\n",
       "                  user_id  \n",
       "0  msQe1u7Z_XuqjGoqhB0J5g  \n",
       "1  msQe1u7Z_XuqjGoqhB0J5g  "
      ]
     },
     "execution_count": 23,
     "metadata": {},
     "output_type": "execute_result"
    }
   ],
   "source": [
    "with open(file_review) as f:\n",
    "    df_review = pd.DataFrame(json.loads(line) for line in f)\n",
    "df_review.head(2)"
   ]
  },
  {
   "cell_type": "code",
   "execution_count": 24,
   "metadata": {},
   "outputs": [
    {
     "data": {
      "text/plain": [
       "(5996996, 9)"
      ]
     },
     "execution_count": 24,
     "metadata": {},
     "output_type": "execute_result"
    }
   ],
   "source": [
    "df_review.shape"
   ]
  },
  {
   "cell_type": "code",
   "execution_count": 29,
   "metadata": {},
   "outputs": [
    {
     "data": {
      "text/plain": [
       "(188593,)"
      ]
     },
     "execution_count": 29,
     "metadata": {},
     "output_type": "execute_result"
    }
   ],
   "source": [
    "df_review.business_id.unique().shape"
   ]
  },
  {
   "cell_type": "markdown",
   "metadata": {},
   "source": [
    "#### Tip Data"
   ]
  },
  {
   "cell_type": "code",
   "execution_count": 25,
   "metadata": {},
   "outputs": [
    {
     "data": {
      "text/html": [
       "<div>\n",
       "<style>\n",
       "    .dataframe thead tr:only-child th {\n",
       "        text-align: right;\n",
       "    }\n",
       "\n",
       "    .dataframe thead th {\n",
       "        text-align: left;\n",
       "    }\n",
       "\n",
       "    .dataframe tbody tr th {\n",
       "        vertical-align: top;\n",
       "    }\n",
       "</style>\n",
       "<table border=\"1\" class=\"dataframe\">\n",
       "  <thead>\n",
       "    <tr style=\"text-align: right;\">\n",
       "      <th></th>\n",
       "      <th>business_id</th>\n",
       "      <th>date</th>\n",
       "      <th>likes</th>\n",
       "      <th>text</th>\n",
       "      <th>user_id</th>\n",
       "    </tr>\n",
       "  </thead>\n",
       "  <tbody>\n",
       "    <tr>\n",
       "      <th>0</th>\n",
       "      <td>tJRDll5yqpZwehenzE2cSg</td>\n",
       "      <td>2012-07-15</td>\n",
       "      <td>0</td>\n",
       "      <td>Get here early enough to have dinner.</td>\n",
       "      <td>zcTZk7OG8ovAmh_fenH21g</td>\n",
       "    </tr>\n",
       "    <tr>\n",
       "      <th>1</th>\n",
       "      <td>2ThtBbeDqFkVi6LugUOcVA</td>\n",
       "      <td>2012-11-25</td>\n",
       "      <td>0</td>\n",
       "      <td>Don't use them! Double charged my boyfriend an...</td>\n",
       "      <td>M5n8mMFoeXjnJEV2gxyGGA</td>\n",
       "    </tr>\n",
       "  </tbody>\n",
       "</table>\n",
       "</div>"
      ],
      "text/plain": [
       "              business_id        date  likes  \\\n",
       "0  tJRDll5yqpZwehenzE2cSg  2012-07-15      0   \n",
       "1  2ThtBbeDqFkVi6LugUOcVA  2012-11-25      0   \n",
       "\n",
       "                                                text                 user_id  \n",
       "0              Get here early enough to have dinner.  zcTZk7OG8ovAmh_fenH21g  \n",
       "1  Don't use them! Double charged my boyfriend an...  M5n8mMFoeXjnJEV2gxyGGA  "
      ]
     },
     "execution_count": 25,
     "metadata": {},
     "output_type": "execute_result"
    }
   ],
   "source": [
    " with open(file_tip) as f:\n",
    "        df_tip = pd.DataFrame(json.loads(line) for line in f)\n",
    "df_tip.head(2)"
   ]
  },
  {
   "cell_type": "code",
   "execution_count": 26,
   "metadata": {},
   "outputs": [
    {
     "data": {
      "text/plain": [
       "(1185348, 5)"
      ]
     },
     "execution_count": 26,
     "metadata": {},
     "output_type": "execute_result"
    }
   ],
   "source": [
    "df_tip.shape"
   ]
  },
  {
   "cell_type": "markdown",
   "metadata": {},
   "source": [
    "#### User Data"
   ]
  },
  {
   "cell_type": "code",
   "execution_count": 10,
   "metadata": {},
   "outputs": [
    {
     "data": {
      "text/html": [
       "<div>\n",
       "<style scoped>\n",
       "    .dataframe tbody tr th:only-of-type {\n",
       "        vertical-align: middle;\n",
       "    }\n",
       "\n",
       "    .dataframe tbody tr th {\n",
       "        vertical-align: top;\n",
       "    }\n",
       "\n",
       "    .dataframe thead th {\n",
       "        text-align: right;\n",
       "    }\n",
       "</style>\n",
       "<table border=\"1\" class=\"dataframe\">\n",
       "  <thead>\n",
       "    <tr style=\"text-align: right;\">\n",
       "      <th></th>\n",
       "      <th>average_stars</th>\n",
       "      <th>compliment_cool</th>\n",
       "      <th>compliment_cute</th>\n",
       "      <th>compliment_funny</th>\n",
       "      <th>compliment_hot</th>\n",
       "      <th>compliment_list</th>\n",
       "      <th>compliment_more</th>\n",
       "      <th>compliment_note</th>\n",
       "      <th>compliment_photos</th>\n",
       "      <th>compliment_plain</th>\n",
       "      <th>...</th>\n",
       "      <th>elite</th>\n",
       "      <th>fans</th>\n",
       "      <th>friends</th>\n",
       "      <th>funny</th>\n",
       "      <th>name</th>\n",
       "      <th>review_count</th>\n",
       "      <th>type</th>\n",
       "      <th>useful</th>\n",
       "      <th>user_id</th>\n",
       "      <th>yelping_since</th>\n",
       "    </tr>\n",
       "  </thead>\n",
       "  <tbody>\n",
       "    <tr>\n",
       "      <th>0</th>\n",
       "      <td>3.59</td>\n",
       "      <td>4192</td>\n",
       "      <td>79</td>\n",
       "      <td>4192</td>\n",
       "      <td>3904</td>\n",
       "      <td>19</td>\n",
       "      <td>305</td>\n",
       "      <td>4705</td>\n",
       "      <td>1347</td>\n",
       "      <td>2617</td>\n",
       "      <td>...</td>\n",
       "      <td>[2017, 2015, 2016, 2014, 2011, 2013, 2012]</td>\n",
       "      <td>298</td>\n",
       "      <td>[iJg9ekPzF9lkMuvjKYX6uA, ctWAuzS04Xu0lke2Rop4l...</td>\n",
       "      <td>12316</td>\n",
       "      <td>Rob</td>\n",
       "      <td>761</td>\n",
       "      <td>user</td>\n",
       "      <td>18456</td>\n",
       "      <td>EZmocAborM6z66rTzeZxzQ</td>\n",
       "      <td>2009-09-12</td>\n",
       "    </tr>\n",
       "    <tr>\n",
       "      <th>1</th>\n",
       "      <td>4.29</td>\n",
       "      <td>144</td>\n",
       "      <td>11</td>\n",
       "      <td>144</td>\n",
       "      <td>64</td>\n",
       "      <td>1</td>\n",
       "      <td>4</td>\n",
       "      <td>97</td>\n",
       "      <td>24</td>\n",
       "      <td>129</td>\n",
       "      <td>...</td>\n",
       "      <td>[None]</td>\n",
       "      <td>34</td>\n",
       "      <td>[r2UUCzGxqI6WPsiWPgqG2A, qewG3X2O4X6JKskxyyqFw...</td>\n",
       "      <td>28</td>\n",
       "      <td>Vivian</td>\n",
       "      <td>80</td>\n",
       "      <td>user</td>\n",
       "      <td>117</td>\n",
       "      <td>myql3o3x22_ygECb8gVo7A</td>\n",
       "      <td>2009-06-27</td>\n",
       "    </tr>\n",
       "  </tbody>\n",
       "</table>\n",
       "<p>2 rows × 23 columns</p>\n",
       "</div>"
      ],
      "text/plain": [
       "   average_stars  compliment_cool  compliment_cute  compliment_funny  \\\n",
       "0           3.59             4192               79              4192   \n",
       "1           4.29              144               11               144   \n",
       "\n",
       "   compliment_hot  compliment_list  compliment_more  compliment_note  \\\n",
       "0            3904               19              305             4705   \n",
       "1              64                1                4               97   \n",
       "\n",
       "   compliment_photos  compliment_plain      ...       \\\n",
       "0               1347              2617      ...        \n",
       "1                 24               129      ...        \n",
       "\n",
       "                                        elite  fans  \\\n",
       "0  [2017, 2015, 2016, 2014, 2011, 2013, 2012]   298   \n",
       "1                                      [None]    34   \n",
       "\n",
       "                                             friends  funny    name  \\\n",
       "0  [iJg9ekPzF9lkMuvjKYX6uA, ctWAuzS04Xu0lke2Rop4l...  12316     Rob   \n",
       "1  [r2UUCzGxqI6WPsiWPgqG2A, qewG3X2O4X6JKskxyyqFw...     28  Vivian   \n",
       "\n",
       "  review_count  type useful                 user_id yelping_since  \n",
       "0          761  user  18456  EZmocAborM6z66rTzeZxzQ    2009-09-12  \n",
       "1           80  user    117  myql3o3x22_ygECb8gVo7A    2009-06-27  \n",
       "\n",
       "[2 rows x 23 columns]"
      ]
     },
     "execution_count": 10,
     "metadata": {},
     "output_type": "execute_result"
    }
   ],
   "source": [
    " with open(file_user) as f:\n",
    "        df_user = pd.DataFrame(json.loads(line) for line in f)\n",
    "df_user.head(2)"
   ]
  },
  {
   "cell_type": "markdown",
   "metadata": {},
   "source": [
    "## Filter data by city and category"
   ]
  },
  {
   "cell_type": "markdown",
   "metadata": {},
   "source": [
    "* create filters that selects business \n",
    "    * that are located in \"Las Vegas\"\n",
    "    * that contains \"Restaurants\" in their category "
   ]
  },
  {
   "cell_type": "code",
   "execution_count": 11,
   "metadata": {},
   "outputs": [
    {
     "data": {
      "text/plain": [
       "array(['address', 'attributes', 'business_id', 'categories', 'city',\n",
       "       'hours', 'is_open', 'latitude', 'longitude', 'name',\n",
       "       'neighborhood', 'postal_code', 'review_count', 'stars', 'state',\n",
       "       'type'], dtype=object)"
      ]
     },
     "execution_count": 11,
     "metadata": {},
     "output_type": "execute_result"
    }
   ],
   "source": [
    "df_business.columns.values"
   ]
  },
  {
   "cell_type": "code",
   "execution_count": 29,
   "metadata": {},
   "outputs": [
    {
     "data": {
      "text/plain": [
       "0    False\n",
       "1    False\n",
       "Name: categories, dtype: bool"
      ]
     },
     "execution_count": 29,
     "metadata": {},
     "output_type": "execute_result"
    }
   ],
   "source": [
    "df_business['categories'][:2].apply(str).str.contains('Restaurants')"
   ]
  },
  {
   "cell_type": "code",
   "execution_count": 30,
   "metadata": {
    "collapsed": true
   },
   "outputs": [],
   "source": [
    "# Create Pandas DataFrame filters\n",
    "\n",
    "#city las vegas : bool, first filter\n",
    "cond_city=df_business['city'] == \"Las Vegas\"\n",
    "\n",
    "cond_category_not_null = ~df_business[\"categories\"].isnull()\n",
    "\n",
    "\n",
    "cont_rest_category=df_business['categories'].apply(str).str.contains('Restaurants')"
   ]
  },
  {
   "cell_type": "code",
   "execution_count": 32,
   "metadata": {
    "collapsed": true
   },
   "outputs": [],
   "source": [
    "# Create filtered DataFrame, and name it df_filtered\n",
    "df_filtered=df_business[cond_city&cont_rest_category&cond_category_not_null]"
   ]
  },
  {
   "cell_type": "code",
   "execution_count": 33,
   "metadata": {},
   "outputs": [
    {
     "data": {
      "text/plain": [
       "(6148, 15)"
      ]
     },
     "execution_count": 33,
     "metadata": {},
     "output_type": "execute_result"
    }
   ],
   "source": [
    "df_filtered.shape"
   ]
  },
  {
   "cell_type": "code",
   "execution_count": 34,
   "metadata": {},
   "outputs": [
    {
     "data": {
      "text/html": [
       "<div>\n",
       "<style>\n",
       "    .dataframe thead tr:only-child th {\n",
       "        text-align: right;\n",
       "    }\n",
       "\n",
       "    .dataframe thead th {\n",
       "        text-align: left;\n",
       "    }\n",
       "\n",
       "    .dataframe tbody tr th {\n",
       "        vertical-align: top;\n",
       "    }\n",
       "</style>\n",
       "<table border=\"1\" class=\"dataframe\">\n",
       "  <thead>\n",
       "    <tr style=\"text-align: right;\">\n",
       "      <th></th>\n",
       "      <th>address</th>\n",
       "      <th>attributes</th>\n",
       "      <th>business_id</th>\n",
       "      <th>categories</th>\n",
       "      <th>city</th>\n",
       "      <th>hours</th>\n",
       "      <th>is_open</th>\n",
       "      <th>latitude</th>\n",
       "      <th>longitude</th>\n",
       "      <th>name</th>\n",
       "      <th>neighborhood</th>\n",
       "      <th>postal_code</th>\n",
       "      <th>review_count</th>\n",
       "      <th>stars</th>\n",
       "      <th>state</th>\n",
       "    </tr>\n",
       "  </thead>\n",
       "  <tbody>\n",
       "    <tr>\n",
       "      <th>19</th>\n",
       "      <td>3940 Martin Luther King Blvd, Ste 101</td>\n",
       "      <td>{'BikeParking': 'True', 'BusinessAcceptsCredit...</td>\n",
       "      <td>vJIuDBdu01vCA8y1fwR1OQ</td>\n",
       "      <td>American (Traditional), Food, Bakeries, Restau...</td>\n",
       "      <td>Las Vegas</td>\n",
       "      <td>{'Tuesday': '11:0-18:0', 'Wednesday': '11:0-18...</td>\n",
       "      <td>0</td>\n",
       "      <td>36.192284</td>\n",
       "      <td>-115.159272</td>\n",
       "      <td>CakesbyToi</td>\n",
       "      <td></td>\n",
       "      <td>89106</td>\n",
       "      <td>3</td>\n",
       "      <td>1.5</td>\n",
       "      <td>NV</td>\n",
       "    </tr>\n",
       "    <tr>\n",
       "      <th>32</th>\n",
       "      <td>2255 N Rampart Blvd</td>\n",
       "      <td>{'Alcohol': 'none', 'Ambience': '{'romantic': ...</td>\n",
       "      <td>kgffcoxT6BQp-gJ-UQ7Czw</td>\n",
       "      <td>Fast Food, Restaurants, Sandwiches</td>\n",
       "      <td>Las Vegas</td>\n",
       "      <td>{'Monday': '9:0-21:0', 'Tuesday': '9:0-21:0', ...</td>\n",
       "      <td>1</td>\n",
       "      <td>36.201794</td>\n",
       "      <td>-115.281981</td>\n",
       "      <td>Subway</td>\n",
       "      <td>Summerlin</td>\n",
       "      <td>89128</td>\n",
       "      <td>13</td>\n",
       "      <td>2.5</td>\n",
       "      <td>NV</td>\n",
       "    </tr>\n",
       "    <tr>\n",
       "      <th>33</th>\n",
       "      <td>2227 N Rampart Blvd</td>\n",
       "      <td>{'Alcohol': 'beer_and_wine', 'Ambience': '{'ro...</td>\n",
       "      <td>0jtRI7hVMpQHpUVtUy4ITw</td>\n",
       "      <td>Beer, Wine &amp; Spirits, Italian, Food, American ...</td>\n",
       "      <td>Las Vegas</td>\n",
       "      <td>{'Monday': '7:0-14:30', 'Tuesday': '7:0-19:0',...</td>\n",
       "      <td>1</td>\n",
       "      <td>36.201990</td>\n",
       "      <td>-115.283122</td>\n",
       "      <td>Omelet House Summerlin</td>\n",
       "      <td>Summerlin</td>\n",
       "      <td>89128</td>\n",
       "      <td>242</td>\n",
       "      <td>4.0</td>\n",
       "      <td>NV</td>\n",
       "    </tr>\n",
       "    <tr>\n",
       "      <th>61</th>\n",
       "      <td>7930 W Tropical Pkwy</td>\n",
       "      <td>{'HasTV': 'False', 'RestaurantsReservations': ...</td>\n",
       "      <td>JJEx5wIqs9iGGATOagE8Sg</td>\n",
       "      <td>Mexican, Restaurants</td>\n",
       "      <td>Las Vegas</td>\n",
       "      <td>None</td>\n",
       "      <td>0</td>\n",
       "      <td>36.271169</td>\n",
       "      <td>-115.267759</td>\n",
       "      <td>Baja Fresh Mexican Grill</td>\n",
       "      <td>Centennial</td>\n",
       "      <td>89149</td>\n",
       "      <td>4</td>\n",
       "      <td>2.0</td>\n",
       "      <td>NV</td>\n",
       "    </tr>\n",
       "    <tr>\n",
       "      <th>141</th>\n",
       "      <td>4505 E Bonanza Rd</td>\n",
       "      <td>{'Alcohol': 'none', 'Ambience': '{'romantic': ...</td>\n",
       "      <td>zhxnD7J5_sCrKSw5cwI9dQ</td>\n",
       "      <td>Chicken Wings, Restaurants, Fast Food</td>\n",
       "      <td>Las Vegas</td>\n",
       "      <td>{'Monday': '10:0-23:0', 'Tuesday': '10:0-23:0'...</td>\n",
       "      <td>1</td>\n",
       "      <td>36.173140</td>\n",
       "      <td>-115.077945</td>\n",
       "      <td>Popeyes Louisiana Kitchen</td>\n",
       "      <td>Sunrise</td>\n",
       "      <td>89110</td>\n",
       "      <td>16</td>\n",
       "      <td>1.5</td>\n",
       "      <td>NV</td>\n",
       "    </tr>\n",
       "  </tbody>\n",
       "</table>\n",
       "</div>"
      ],
      "text/plain": [
       "                                   address  \\\n",
       "19   3940 Martin Luther King Blvd, Ste 101   \n",
       "32                     2255 N Rampart Blvd   \n",
       "33                     2227 N Rampart Blvd   \n",
       "61                    7930 W Tropical Pkwy   \n",
       "141                      4505 E Bonanza Rd   \n",
       "\n",
       "                                            attributes  \\\n",
       "19   {'BikeParking': 'True', 'BusinessAcceptsCredit...   \n",
       "32   {'Alcohol': 'none', 'Ambience': '{'romantic': ...   \n",
       "33   {'Alcohol': 'beer_and_wine', 'Ambience': '{'ro...   \n",
       "61   {'HasTV': 'False', 'RestaurantsReservations': ...   \n",
       "141  {'Alcohol': 'none', 'Ambience': '{'romantic': ...   \n",
       "\n",
       "                business_id  \\\n",
       "19   vJIuDBdu01vCA8y1fwR1OQ   \n",
       "32   kgffcoxT6BQp-gJ-UQ7Czw   \n",
       "33   0jtRI7hVMpQHpUVtUy4ITw   \n",
       "61   JJEx5wIqs9iGGATOagE8Sg   \n",
       "141  zhxnD7J5_sCrKSw5cwI9dQ   \n",
       "\n",
       "                                            categories       city  \\\n",
       "19   American (Traditional), Food, Bakeries, Restau...  Las Vegas   \n",
       "32                  Fast Food, Restaurants, Sandwiches  Las Vegas   \n",
       "33   Beer, Wine & Spirits, Italian, Food, American ...  Las Vegas   \n",
       "61                                Mexican, Restaurants  Las Vegas   \n",
       "141              Chicken Wings, Restaurants, Fast Food  Las Vegas   \n",
       "\n",
       "                                                 hours  is_open   latitude  \\\n",
       "19   {'Tuesday': '11:0-18:0', 'Wednesday': '11:0-18...        0  36.192284   \n",
       "32   {'Monday': '9:0-21:0', 'Tuesday': '9:0-21:0', ...        1  36.201794   \n",
       "33   {'Monday': '7:0-14:30', 'Tuesday': '7:0-19:0',...        1  36.201990   \n",
       "61                                                None        0  36.271169   \n",
       "141  {'Monday': '10:0-23:0', 'Tuesday': '10:0-23:0'...        1  36.173140   \n",
       "\n",
       "      longitude                       name neighborhood postal_code  \\\n",
       "19  -115.159272                 CakesbyToi                    89106   \n",
       "32  -115.281981                     Subway    Summerlin       89128   \n",
       "33  -115.283122     Omelet House Summerlin    Summerlin       89128   \n",
       "61  -115.267759   Baja Fresh Mexican Grill   Centennial       89149   \n",
       "141 -115.077945  Popeyes Louisiana Kitchen      Sunrise       89110   \n",
       "\n",
       "     review_count  stars state  \n",
       "19              3    1.5    NV  \n",
       "32             13    2.5    NV  \n",
       "33            242    4.0    NV  \n",
       "61              4    2.0    NV  \n",
       "141            16    1.5    NV  "
      ]
     },
     "execution_count": 34,
     "metadata": {},
     "output_type": "execute_result"
    }
   ],
   "source": [
    "df_filtered.head()"
   ]
  },
  {
   "cell_type": "markdown",
   "metadata": {},
   "source": [
    "#### Keep relevant columns\n",
    "\n",
    "* only keep some useful columns\n",
    "    * business_id\n",
    "    * name\n",
    "    * categories\n",
    "    * stars"
   ]
  },
  {
   "cell_type": "code",
   "execution_count": 35,
   "metadata": {
    "collapsed": true
   },
   "outputs": [],
   "source": [
    "selected_features = [u'business_id', u'name', u'categories', u'stars']"
   ]
  },
  {
   "cell_type": "code",
   "execution_count": 36,
   "metadata": {
    "collapsed": true
   },
   "outputs": [],
   "source": [
    "df_select=df_filtered[selected_features]"
   ]
  },
  {
   "cell_type": "code",
   "execution_count": 37,
   "metadata": {},
   "outputs": [
    {
     "data": {
      "text/plain": [
       "(6148, 4)"
      ]
     },
     "execution_count": 37,
     "metadata": {},
     "output_type": "execute_result"
    }
   ],
   "source": [
    "df_select.shape"
   ]
  },
  {
   "cell_type": "code",
   "execution_count": 38,
   "metadata": {},
   "outputs": [
    {
     "data": {
      "text/html": [
       "<div>\n",
       "<style>\n",
       "    .dataframe thead tr:only-child th {\n",
       "        text-align: right;\n",
       "    }\n",
       "\n",
       "    .dataframe thead th {\n",
       "        text-align: left;\n",
       "    }\n",
       "\n",
       "    .dataframe tbody tr th {\n",
       "        vertical-align: top;\n",
       "    }\n",
       "</style>\n",
       "<table border=\"1\" class=\"dataframe\">\n",
       "  <thead>\n",
       "    <tr style=\"text-align: right;\">\n",
       "      <th></th>\n",
       "      <th>business_id</th>\n",
       "      <th>cool</th>\n",
       "      <th>date</th>\n",
       "      <th>funny</th>\n",
       "      <th>review_id</th>\n",
       "      <th>stars</th>\n",
       "      <th>text</th>\n",
       "      <th>useful</th>\n",
       "      <th>user_id</th>\n",
       "    </tr>\n",
       "  </thead>\n",
       "  <tbody>\n",
       "    <tr>\n",
       "      <th>0</th>\n",
       "      <td>iCQpiavjjPzJ5_3gPD5Ebg</td>\n",
       "      <td>0</td>\n",
       "      <td>2011-02-25</td>\n",
       "      <td>0</td>\n",
       "      <td>x7mDIiDB3jEiPGPHOmDzyw</td>\n",
       "      <td>2</td>\n",
       "      <td>The pizza was okay. Not the best I've had. I p...</td>\n",
       "      <td>0</td>\n",
       "      <td>msQe1u7Z_XuqjGoqhB0J5g</td>\n",
       "    </tr>\n",
       "    <tr>\n",
       "      <th>1</th>\n",
       "      <td>pomGBqfbxcqPv14c3XH-ZQ</td>\n",
       "      <td>0</td>\n",
       "      <td>2012-11-13</td>\n",
       "      <td>0</td>\n",
       "      <td>dDl8zu1vWPdKGihJrwQbpw</td>\n",
       "      <td>5</td>\n",
       "      <td>I love this place! My fiance And I go here atl...</td>\n",
       "      <td>0</td>\n",
       "      <td>msQe1u7Z_XuqjGoqhB0J5g</td>\n",
       "    </tr>\n",
       "    <tr>\n",
       "      <th>2</th>\n",
       "      <td>jtQARsP6P-LbkyjbO1qNGg</td>\n",
       "      <td>1</td>\n",
       "      <td>2014-10-23</td>\n",
       "      <td>1</td>\n",
       "      <td>LZp4UX5zK3e-c5ZGSeo3kA</td>\n",
       "      <td>1</td>\n",
       "      <td>Terrible. Dry corn bread. Rib tips were all fa...</td>\n",
       "      <td>3</td>\n",
       "      <td>msQe1u7Z_XuqjGoqhB0J5g</td>\n",
       "    </tr>\n",
       "  </tbody>\n",
       "</table>\n",
       "</div>"
      ],
      "text/plain": [
       "              business_id  cool        date  funny               review_id  \\\n",
       "0  iCQpiavjjPzJ5_3gPD5Ebg     0  2011-02-25      0  x7mDIiDB3jEiPGPHOmDzyw   \n",
       "1  pomGBqfbxcqPv14c3XH-ZQ     0  2012-11-13      0  dDl8zu1vWPdKGihJrwQbpw   \n",
       "2  jtQARsP6P-LbkyjbO1qNGg     1  2014-10-23      1  LZp4UX5zK3e-c5ZGSeo3kA   \n",
       "\n",
       "   stars                                               text  useful  \\\n",
       "0      2  The pizza was okay. Not the best I've had. I p...       0   \n",
       "1      5  I love this place! My fiance And I go here atl...       0   \n",
       "2      1  Terrible. Dry corn bread. Rib tips were all fa...       3   \n",
       "\n",
       "                  user_id  \n",
       "0  msQe1u7Z_XuqjGoqhB0J5g  \n",
       "1  msQe1u7Z_XuqjGoqhB0J5g  \n",
       "2  msQe1u7Z_XuqjGoqhB0J5g  "
      ]
     },
     "execution_count": 38,
     "metadata": {},
     "output_type": "execute_result"
    }
   ],
   "source": [
    "df_review.head(3)"
   ]
  },
  {
   "cell_type": "code",
   "execution_count": 39,
   "metadata": {},
   "outputs": [
    {
     "name": "stderr",
     "output_type": "stream",
     "text": [
      "/home/nellieliu0/anaconda3/lib/python3.6/site-packages/pandas/core/frame.py:2746: SettingWithCopyWarning: \n",
      "A value is trying to be set on a copy of a slice from a DataFrame\n",
      "\n",
      "See the caveats in the documentation: http://pandas.pydata.org/pandas-docs/stable/indexing.html#indexing-view-versus-copy\n",
      "  **kwargs)\n"
     ]
    }
   ],
   "source": [
    "# Rename the column name \"stars\" to \"avg_stars\" to avoid naming conflicts with review dataset\n",
    "df_select.columns\n",
    "df_select.rename(columns={\"stars\":\"avg_stars\"},inplace=True)"
   ]
  },
  {
   "cell_type": "code",
   "execution_count": 40,
   "metadata": {},
   "outputs": [
    {
     "data": {
      "text/html": [
       "<div>\n",
       "<style>\n",
       "    .dataframe thead tr:only-child th {\n",
       "        text-align: right;\n",
       "    }\n",
       "\n",
       "    .dataframe thead th {\n",
       "        text-align: left;\n",
       "    }\n",
       "\n",
       "    .dataframe tbody tr th {\n",
       "        vertical-align: top;\n",
       "    }\n",
       "</style>\n",
       "<table border=\"1\" class=\"dataframe\">\n",
       "  <thead>\n",
       "    <tr style=\"text-align: right;\">\n",
       "      <th></th>\n",
       "      <th>business_id</th>\n",
       "      <th>name</th>\n",
       "      <th>categories</th>\n",
       "      <th>avg_stars</th>\n",
       "    </tr>\n",
       "  </thead>\n",
       "  <tbody>\n",
       "    <tr>\n",
       "      <th>19</th>\n",
       "      <td>vJIuDBdu01vCA8y1fwR1OQ</td>\n",
       "      <td>CakesbyToi</td>\n",
       "      <td>American (Traditional), Food, Bakeries, Restau...</td>\n",
       "      <td>1.5</td>\n",
       "    </tr>\n",
       "    <tr>\n",
       "      <th>32</th>\n",
       "      <td>kgffcoxT6BQp-gJ-UQ7Czw</td>\n",
       "      <td>Subway</td>\n",
       "      <td>Fast Food, Restaurants, Sandwiches</td>\n",
       "      <td>2.5</td>\n",
       "    </tr>\n",
       "  </tbody>\n",
       "</table>\n",
       "</div>"
      ],
      "text/plain": [
       "               business_id        name  \\\n",
       "19  vJIuDBdu01vCA8y1fwR1OQ  CakesbyToi   \n",
       "32  kgffcoxT6BQp-gJ-UQ7Czw      Subway   \n",
       "\n",
       "                                           categories  avg_stars  \n",
       "19  American (Traditional), Food, Bakeries, Restau...        1.5  \n",
       "32                 Fast Food, Restaurants, Sandwiches        2.5  "
      ]
     },
     "execution_count": 40,
     "metadata": {},
     "output_type": "execute_result"
    }
   ],
   "source": [
    "df_select.head(2)"
   ]
  },
  {
   "cell_type": "markdown",
   "metadata": {},
   "source": [
    "#### Save results to csv files"
   ]
  },
  {
   "cell_type": "code",
   "execution_count": 41,
   "metadata": {
    "collapsed": true
   },
   "outputs": [],
   "source": [
    "# Save to ./data/selected_business.csv for your next task\n",
    "df_select.to_csv('selected_business.csv', index=False, encoding='utf-8')"
   ]
  },
  {
   "cell_type": "code",
   "execution_count": 3,
   "metadata": {
    "collapsed": true
   },
   "outputs": [],
   "source": [
    "# Try reload the csv file to check if everything works fine\n",
    "df_select=pd.read_csv('selected_business.csv')"
   ]
  },
  {
   "cell_type": "code",
   "execution_count": 4,
   "metadata": {},
   "outputs": [
    {
     "data": {
      "text/plain": [
       "(6148, 4)"
      ]
     },
     "execution_count": 4,
     "metadata": {},
     "output_type": "execute_result"
    }
   ],
   "source": [
    "df_select.shape"
   ]
  },
  {
   "cell_type": "markdown",
   "metadata": {},
   "source": [
    "### Use the \"business_id\" column to filter review data\n",
    "\n",
    "* I want to make a DataFrame that contain and only contain the reviews about the business entities we just obtained"
   ]
  },
  {
   "cell_type": "markdown",
   "metadata": {},
   "source": [
    "#### Load review dataset"
   ]
  },
  {
   "cell_type": "code",
   "execution_count": 7,
   "metadata": {},
   "outputs": [
    {
     "data": {
      "text/html": [
       "<div>\n",
       "<style>\n",
       "    .dataframe thead tr:only-child th {\n",
       "        text-align: right;\n",
       "    }\n",
       "\n",
       "    .dataframe thead th {\n",
       "        text-align: left;\n",
       "    }\n",
       "\n",
       "    .dataframe tbody tr th {\n",
       "        vertical-align: top;\n",
       "    }\n",
       "</style>\n",
       "<table border=\"1\" class=\"dataframe\">\n",
       "  <thead>\n",
       "    <tr style=\"text-align: right;\">\n",
       "      <th></th>\n",
       "      <th>business_id</th>\n",
       "      <th>cool</th>\n",
       "      <th>date</th>\n",
       "      <th>funny</th>\n",
       "      <th>review_id</th>\n",
       "      <th>stars</th>\n",
       "      <th>text</th>\n",
       "      <th>useful</th>\n",
       "      <th>user_id</th>\n",
       "    </tr>\n",
       "  </thead>\n",
       "  <tbody>\n",
       "    <tr>\n",
       "      <th>0</th>\n",
       "      <td>iCQpiavjjPzJ5_3gPD5Ebg</td>\n",
       "      <td>0</td>\n",
       "      <td>2011-02-25</td>\n",
       "      <td>0</td>\n",
       "      <td>x7mDIiDB3jEiPGPHOmDzyw</td>\n",
       "      <td>2</td>\n",
       "      <td>The pizza was okay. Not the best I've had. I p...</td>\n",
       "      <td>0</td>\n",
       "      <td>msQe1u7Z_XuqjGoqhB0J5g</td>\n",
       "    </tr>\n",
       "    <tr>\n",
       "      <th>1</th>\n",
       "      <td>pomGBqfbxcqPv14c3XH-ZQ</td>\n",
       "      <td>0</td>\n",
       "      <td>2012-11-13</td>\n",
       "      <td>0</td>\n",
       "      <td>dDl8zu1vWPdKGihJrwQbpw</td>\n",
       "      <td>5</td>\n",
       "      <td>I love this place! My fiance And I go here atl...</td>\n",
       "      <td>0</td>\n",
       "      <td>msQe1u7Z_XuqjGoqhB0J5g</td>\n",
       "    </tr>\n",
       "  </tbody>\n",
       "</table>\n",
       "</div>"
      ],
      "text/plain": [
       "              business_id  cool        date  funny               review_id  \\\n",
       "0  iCQpiavjjPzJ5_3gPD5Ebg     0  2011-02-25      0  x7mDIiDB3jEiPGPHOmDzyw   \n",
       "1  pomGBqfbxcqPv14c3XH-ZQ     0  2012-11-13      0  dDl8zu1vWPdKGihJrwQbpw   \n",
       "\n",
       "   stars                                               text  useful  \\\n",
       "0      2  The pizza was okay. Not the best I've had. I p...       0   \n",
       "1      5  I love this place! My fiance And I go here atl...       0   \n",
       "\n",
       "                  user_id  \n",
       "0  msQe1u7Z_XuqjGoqhB0J5g  \n",
       "1  msQe1u7Z_XuqjGoqhB0J5g  "
      ]
     },
     "execution_count": 7,
     "metadata": {},
     "output_type": "execute_result"
    }
   ],
   "source": [
    "with open(file_review) as f:\n",
    "    df_review = pd.DataFrame(json.loads(line) for line in f)\n",
    "df_review.head(2)"
   ]
  },
  {
   "cell_type": "code",
   "execution_count": 58,
   "metadata": {},
   "outputs": [
    {
     "data": {
      "text/html": [
       "<div>\n",
       "<style scoped>\n",
       "    .dataframe tbody tr th:only-of-type {\n",
       "        vertical-align: middle;\n",
       "    }\n",
       "\n",
       "    .dataframe tbody tr th {\n",
       "        vertical-align: top;\n",
       "    }\n",
       "\n",
       "    .dataframe thead th {\n",
       "        text-align: right;\n",
       "    }\n",
       "</style>\n",
       "<table border=\"1\" class=\"dataframe\">\n",
       "  <thead>\n",
       "    <tr style=\"text-align: right;\">\n",
       "      <th></th>\n",
       "      <th>business_id</th>\n",
       "      <th>name</th>\n",
       "      <th>categories</th>\n",
       "      <th>avg_stars</th>\n",
       "    </tr>\n",
       "  </thead>\n",
       "  <tbody>\n",
       "    <tr>\n",
       "      <th>37</th>\n",
       "      <td>saWZO6hB4B8P-mIzS1--Xw</td>\n",
       "      <td>Kabob Palace</td>\n",
       "      <td>[Persian/Iranian, Restaurants, Ethnic Food, Fo...</td>\n",
       "      <td>2.5</td>\n",
       "    </tr>\n",
       "    <tr>\n",
       "      <th>71</th>\n",
       "      <td>hMh9XOwNQcu31NAOCqhAEw</td>\n",
       "      <td>Taste of India</td>\n",
       "      <td>[Restaurants, Vegetarian, Indian]</td>\n",
       "      <td>3.5</td>\n",
       "    </tr>\n",
       "  </tbody>\n",
       "</table>\n",
       "</div>"
      ],
      "text/plain": [
       "               business_id            name  \\\n",
       "37  saWZO6hB4B8P-mIzS1--Xw    Kabob Palace   \n",
       "71  hMh9XOwNQcu31NAOCqhAEw  Taste of India   \n",
       "\n",
       "                                           categories  avg_stars  \n",
       "37  [Persian/Iranian, Restaurants, Ethnic Food, Fo...        2.5  \n",
       "71                  [Restaurants, Vegetarian, Indian]        3.5  "
      ]
     },
     "execution_count": 58,
     "metadata": {},
     "output_type": "execute_result"
    }
   ],
   "source": [
    "df_select.head(2)"
   ]
  },
  {
   "cell_type": "markdown",
   "metadata": {},
   "source": [
    "#### Prepare dataframes to be joined, - on business_id"
   ]
  },
  {
   "cell_type": "code",
   "execution_count": 8,
   "metadata": {
    "collapsed": true
   },
   "outputs": [],
   "source": [
    "# Prepare the business dataframe and set index to column \"business_id\", and name it as df_left\n",
    "df_left=df_select.set_index('business_id')"
   ]
  },
  {
   "cell_type": "code",
   "execution_count": 45,
   "metadata": {},
   "outputs": [
    {
     "data": {
      "text/plain": [
       "(6148, 3)"
      ]
     },
     "execution_count": 45,
     "metadata": {},
     "output_type": "execute_result"
    }
   ],
   "source": [
    "df_left.shape"
   ]
  },
  {
   "cell_type": "code",
   "execution_count": 49,
   "metadata": {
    "collapsed": true
   },
   "outputs": [],
   "source": [
    "del df_right"
   ]
  },
  {
   "cell_type": "code",
   "execution_count": 9,
   "metadata": {
    "collapsed": true
   },
   "outputs": [],
   "source": [
    "# Prepare the review dataframe and set index to column \"business_id\", and name it as df_right\n",
    "df_right=df_review[df_review['date']>'2016-02-01'].set_index('business_id')"
   ]
  },
  {
   "cell_type": "code",
   "execution_count": 10,
   "metadata": {},
   "outputs": [
    {
     "data": {
      "text/plain": [
       "(2848216, 8)"
      ]
     },
     "execution_count": 10,
     "metadata": {},
     "output_type": "execute_result"
    }
   ],
   "source": [
    "df_right.shape"
   ]
  },
  {
   "cell_type": "code",
   "execution_count": 12,
   "metadata": {
    "collapsed": true
   },
   "outputs": [],
   "source": [
    "\n",
    "df_final=df_left.join(df_right, how='inner')"
   ]
  },
  {
   "cell_type": "code",
   "execution_count": 13,
   "metadata": {},
   "outputs": [
    {
     "data": {
      "text/plain": [
       "(473382, 11)"
      ]
     },
     "execution_count": 13,
     "metadata": {},
     "output_type": "execute_result"
    }
   ],
   "source": [
    "df_final.shape"
   ]
  },
  {
   "cell_type": "code",
   "execution_count": 17,
   "metadata": {},
   "outputs": [
    {
     "data": {
      "text/html": [
       "<div>\n",
       "<style>\n",
       "    .dataframe thead tr:only-child th {\n",
       "        text-align: right;\n",
       "    }\n",
       "\n",
       "    .dataframe thead th {\n",
       "        text-align: left;\n",
       "    }\n",
       "\n",
       "    .dataframe tbody tr th {\n",
       "        vertical-align: top;\n",
       "    }\n",
       "</style>\n",
       "<table border=\"1\" class=\"dataframe\">\n",
       "  <thead>\n",
       "    <tr style=\"text-align: right;\">\n",
       "      <th></th>\n",
       "      <th>business_id</th>\n",
       "      <th>name</th>\n",
       "      <th>categories</th>\n",
       "      <th>avg_stars</th>\n",
       "      <th>cool</th>\n",
       "      <th>date</th>\n",
       "      <th>funny</th>\n",
       "      <th>review_id</th>\n",
       "      <th>stars</th>\n",
       "      <th>text</th>\n",
       "      <th>useful</th>\n",
       "      <th>user_id</th>\n",
       "    </tr>\n",
       "  </thead>\n",
       "  <tbody>\n",
       "    <tr>\n",
       "      <th>0</th>\n",
       "      <td>--9e1ONYQuAa-CB_Rrw7Tw</td>\n",
       "      <td>Delmonico Steakhouse</td>\n",
       "      <td>Steakhouses, Restaurants, Cajun/Creole</td>\n",
       "      <td>4.0</td>\n",
       "      <td>0</td>\n",
       "      <td>2017-02-14</td>\n",
       "      <td>0</td>\n",
       "      <td>VETXTwMw6qxzOVDlXfe6Tg</td>\n",
       "      <td>5</td>\n",
       "      <td>went for dinner tonight. Amazing my husband ha...</td>\n",
       "      <td>0</td>\n",
       "      <td>ymlnR8UeFvB4FZL56tCZsA</td>\n",
       "    </tr>\n",
       "    <tr>\n",
       "      <th>1</th>\n",
       "      <td>--9e1ONYQuAa-CB_Rrw7Tw</td>\n",
       "      <td>Delmonico Steakhouse</td>\n",
       "      <td>Steakhouses, Restaurants, Cajun/Creole</td>\n",
       "      <td>4.0</td>\n",
       "      <td>0</td>\n",
       "      <td>2017-12-04</td>\n",
       "      <td>0</td>\n",
       "      <td>S8-8uZ7fa5YbjnEtaW15ng</td>\n",
       "      <td>5</td>\n",
       "      <td>This was an amazing dinning experience! ORDER ...</td>\n",
       "      <td>0</td>\n",
       "      <td>9pSSL6X6lFpY3FCRLEH3og</td>\n",
       "    </tr>\n",
       "    <tr>\n",
       "      <th>2</th>\n",
       "      <td>--9e1ONYQuAa-CB_Rrw7Tw</td>\n",
       "      <td>Delmonico Steakhouse</td>\n",
       "      <td>Steakhouses, Restaurants, Cajun/Creole</td>\n",
       "      <td>4.0</td>\n",
       "      <td>0</td>\n",
       "      <td>2016-08-22</td>\n",
       "      <td>1</td>\n",
       "      <td>1nK5w0VNfDlnR3bOz13dJQ</td>\n",
       "      <td>5</td>\n",
       "      <td>My husband and I went there for lunch on a Sat...</td>\n",
       "      <td>1</td>\n",
       "      <td>gm8nNoA3uB4In5o_Hxpq3g</td>\n",
       "    </tr>\n",
       "    <tr>\n",
       "      <th>3</th>\n",
       "      <td>--9e1ONYQuAa-CB_Rrw7Tw</td>\n",
       "      <td>Delmonico Steakhouse</td>\n",
       "      <td>Steakhouses, Restaurants, Cajun/Creole</td>\n",
       "      <td>4.0</td>\n",
       "      <td>0</td>\n",
       "      <td>2016-09-13</td>\n",
       "      <td>0</td>\n",
       "      <td>N1Z93BthdJ7FT2p5S22jIA</td>\n",
       "      <td>3</td>\n",
       "      <td>Went for a nice anniversary dinner. Researched...</td>\n",
       "      <td>0</td>\n",
       "      <td>CEtidlXNyQzgJSdF1ubPFw</td>\n",
       "    </tr>\n",
       "    <tr>\n",
       "      <th>4</th>\n",
       "      <td>--9e1ONYQuAa-CB_Rrw7Tw</td>\n",
       "      <td>Delmonico Steakhouse</td>\n",
       "      <td>Steakhouses, Restaurants, Cajun/Creole</td>\n",
       "      <td>4.0</td>\n",
       "      <td>0</td>\n",
       "      <td>2016-08-08</td>\n",
       "      <td>0</td>\n",
       "      <td>ir-EVhHyWna7KqYWtj660g</td>\n",
       "      <td>5</td>\n",
       "      <td>Hands down the best meal and service I have ev...</td>\n",
       "      <td>0</td>\n",
       "      <td>9_BhDyzJYf2JwTD9TyXJ4g</td>\n",
       "    </tr>\n",
       "  </tbody>\n",
       "</table>\n",
       "</div>"
      ],
      "text/plain": [
       "              business_id                  name  \\\n",
       "0  --9e1ONYQuAa-CB_Rrw7Tw  Delmonico Steakhouse   \n",
       "1  --9e1ONYQuAa-CB_Rrw7Tw  Delmonico Steakhouse   \n",
       "2  --9e1ONYQuAa-CB_Rrw7Tw  Delmonico Steakhouse   \n",
       "3  --9e1ONYQuAa-CB_Rrw7Tw  Delmonico Steakhouse   \n",
       "4  --9e1ONYQuAa-CB_Rrw7Tw  Delmonico Steakhouse   \n",
       "\n",
       "                               categories  avg_stars  cool        date  funny  \\\n",
       "0  Steakhouses, Restaurants, Cajun/Creole        4.0     0  2017-02-14      0   \n",
       "1  Steakhouses, Restaurants, Cajun/Creole        4.0     0  2017-12-04      0   \n",
       "2  Steakhouses, Restaurants, Cajun/Creole        4.0     0  2016-08-22      1   \n",
       "3  Steakhouses, Restaurants, Cajun/Creole        4.0     0  2016-09-13      0   \n",
       "4  Steakhouses, Restaurants, Cajun/Creole        4.0     0  2016-08-08      0   \n",
       "\n",
       "                review_id  stars  \\\n",
       "0  VETXTwMw6qxzOVDlXfe6Tg      5   \n",
       "1  S8-8uZ7fa5YbjnEtaW15ng      5   \n",
       "2  1nK5w0VNfDlnR3bOz13dJQ      5   \n",
       "3  N1Z93BthdJ7FT2p5S22jIA      3   \n",
       "4  ir-EVhHyWna7KqYWtj660g      5   \n",
       "\n",
       "                                                text  useful  \\\n",
       "0  went for dinner tonight. Amazing my husband ha...       0   \n",
       "1  This was an amazing dinning experience! ORDER ...       0   \n",
       "2  My husband and I went there for lunch on a Sat...       1   \n",
       "3  Went for a nice anniversary dinner. Researched...       0   \n",
       "4  Hands down the best meal and service I have ev...       0   \n",
       "\n",
       "                  user_id  \n",
       "0  ymlnR8UeFvB4FZL56tCZsA  \n",
       "1  9pSSL6X6lFpY3FCRLEH3og  \n",
       "2  gm8nNoA3uB4In5o_Hxpq3g  \n",
       "3  CEtidlXNyQzgJSdF1ubPFw  \n",
       "4  9_BhDyzJYf2JwTD9TyXJ4g  "
      ]
     },
     "execution_count": 17,
     "metadata": {},
     "output_type": "execute_result"
    }
   ],
   "source": [
    "df_final.head(5)"
   ]
  },
  {
   "cell_type": "code",
   "execution_count": 15,
   "metadata": {
    "collapsed": true
   },
   "outputs": [],
   "source": [
    "# reset the index \n",
    "df_final=df_final.reset_indexex()"
   ]
  },
  {
   "cell_type": "markdown",
   "metadata": {},
   "source": [
    "#### Take a glance at the final dataset\n"
   ]
  },
  {
   "cell_type": "code",
   "execution_count": 16,
   "metadata": {
    "collapsed": true
   },
   "outputs": [],
   "source": [
    "import matplotlib.pyplot as plt\n",
    "\n",
    "% matplotlib inline"
   ]
  },
  {
   "cell_type": "code",
   "execution_count": 18,
   "metadata": {},
   "outputs": [
    {
     "data": {
      "text/plain": [
       "(4759,)"
      ]
     },
     "execution_count": 18,
     "metadata": {},
     "output_type": "execute_result"
    }
   ],
   "source": [
    "# e.g. calculate counts of reviews per business entity, and plot it\n",
    "df_final['business_id'].unique().shape"
   ]
  },
  {
   "cell_type": "code",
   "execution_count": 19,
   "metadata": {
    "collapsed": true
   },
   "outputs": [],
   "source": [
    "# with 4759 restaurants there are 473382 reviews, almost 100 reviews for each restaurant"
   ]
  },
  {
   "cell_type": "code",
   "execution_count": 21,
   "metadata": {},
   "outputs": [
    {
     "data": {
      "text/plain": [
       "(3321,)"
      ]
     },
     "execution_count": 21,
     "metadata": {},
     "output_type": "execute_result"
    }
   ],
   "source": [
    "df_final['categories'].value_counts().shape"
   ]
  },
  {
   "cell_type": "code",
   "execution_count": 23,
   "metadata": {},
   "outputs": [
    {
     "data": {
      "text/plain": [
       "473372    Food, Acai Bowls, Restaurants, Coffee & Tea, T...\n",
       "473373    Food, Acai Bowls, Restaurants, Coffee & Tea, T...\n",
       "473374    Food, Acai Bowls, Restaurants, Coffee & Tea, T...\n",
       "473375    Food, Acai Bowls, Restaurants, Coffee & Tea, T...\n",
       "473376    Food, Acai Bowls, Restaurants, Coffee & Tea, T...\n",
       "473377    Food, Acai Bowls, Restaurants, Coffee & Tea, T...\n",
       "473378    Food, Acai Bowls, Restaurants, Coffee & Tea, T...\n",
       "473379    Food, Acai Bowls, Restaurants, Coffee & Tea, T...\n",
       "473380    Food, Acai Bowls, Restaurants, Coffee & Tea, T...\n",
       "473381    Food, Acai Bowls, Restaurants, Coffee & Tea, T...\n",
       "Name: categories, dtype: object"
      ]
     },
     "execution_count": 23,
     "metadata": {},
     "output_type": "execute_result"
    }
   ],
   "source": [
    "df_final['categories'][-10:]"
   ]
  },
  {
   "cell_type": "markdown",
   "metadata": {},
   "source": [
    "## Save the preprocessed dataset to csv file\n",
    "\n"
   ]
  },
  {
   "cell_type": "code",
   "execution_count": 27,
   "metadata": {
    "collapsed": true
   },
   "outputs": [],
   "source": [
    "# Save to ./data/last_2_years_restaurant_reviews.csv for your next task\n",
    "df_final.to_csv(\"final_business.csv\", index=False, encoding=\"utf-8\") \n",
    "#save as utf-8 including english characters and others"
   ]
  },
  {
   "cell_type": "code",
   "execution_count": 28,
   "metadata": {},
   "outputs": [
    {
     "data": {
      "text/html": [
       "<div>\n",
       "<style>\n",
       "    .dataframe thead tr:only-child th {\n",
       "        text-align: right;\n",
       "    }\n",
       "\n",
       "    .dataframe thead th {\n",
       "        text-align: left;\n",
       "    }\n",
       "\n",
       "    .dataframe tbody tr th {\n",
       "        vertical-align: top;\n",
       "    }\n",
       "</style>\n",
       "<table border=\"1\" class=\"dataframe\">\n",
       "  <thead>\n",
       "    <tr style=\"text-align: right;\">\n",
       "      <th></th>\n",
       "      <th>business_id</th>\n",
       "      <th>name</th>\n",
       "      <th>categories</th>\n",
       "      <th>avg_stars</th>\n",
       "      <th>cool</th>\n",
       "      <th>date</th>\n",
       "      <th>funny</th>\n",
       "      <th>review_id</th>\n",
       "      <th>stars</th>\n",
       "      <th>text</th>\n",
       "      <th>useful</th>\n",
       "      <th>user_id</th>\n",
       "    </tr>\n",
       "  </thead>\n",
       "  <tbody>\n",
       "    <tr>\n",
       "      <th>0</th>\n",
       "      <td>--9e1ONYQuAa-CB_Rrw7Tw</td>\n",
       "      <td>Delmonico Steakhouse</td>\n",
       "      <td>Steakhouses, Restaurants, Cajun/Creole</td>\n",
       "      <td>4.0</td>\n",
       "      <td>0</td>\n",
       "      <td>2017-02-14</td>\n",
       "      <td>0</td>\n",
       "      <td>VETXTwMw6qxzOVDlXfe6Tg</td>\n",
       "      <td>5</td>\n",
       "      <td>went for dinner tonight. Amazing my husband ha...</td>\n",
       "      <td>0</td>\n",
       "      <td>ymlnR8UeFvB4FZL56tCZsA</td>\n",
       "    </tr>\n",
       "    <tr>\n",
       "      <th>1</th>\n",
       "      <td>--9e1ONYQuAa-CB_Rrw7Tw</td>\n",
       "      <td>Delmonico Steakhouse</td>\n",
       "      <td>Steakhouses, Restaurants, Cajun/Creole</td>\n",
       "      <td>4.0</td>\n",
       "      <td>0</td>\n",
       "      <td>2017-12-04</td>\n",
       "      <td>0</td>\n",
       "      <td>S8-8uZ7fa5YbjnEtaW15ng</td>\n",
       "      <td>5</td>\n",
       "      <td>This was an amazing dinning experience! ORDER ...</td>\n",
       "      <td>0</td>\n",
       "      <td>9pSSL6X6lFpY3FCRLEH3og</td>\n",
       "    </tr>\n",
       "    <tr>\n",
       "      <th>2</th>\n",
       "      <td>--9e1ONYQuAa-CB_Rrw7Tw</td>\n",
       "      <td>Delmonico Steakhouse</td>\n",
       "      <td>Steakhouses, Restaurants, Cajun/Creole</td>\n",
       "      <td>4.0</td>\n",
       "      <td>0</td>\n",
       "      <td>2016-08-22</td>\n",
       "      <td>1</td>\n",
       "      <td>1nK5w0VNfDlnR3bOz13dJQ</td>\n",
       "      <td>5</td>\n",
       "      <td>My husband and I went there for lunch on a Sat...</td>\n",
       "      <td>1</td>\n",
       "      <td>gm8nNoA3uB4In5o_Hxpq3g</td>\n",
       "    </tr>\n",
       "    <tr>\n",
       "      <th>3</th>\n",
       "      <td>--9e1ONYQuAa-CB_Rrw7Tw</td>\n",
       "      <td>Delmonico Steakhouse</td>\n",
       "      <td>Steakhouses, Restaurants, Cajun/Creole</td>\n",
       "      <td>4.0</td>\n",
       "      <td>0</td>\n",
       "      <td>2016-09-13</td>\n",
       "      <td>0</td>\n",
       "      <td>N1Z93BthdJ7FT2p5S22jIA</td>\n",
       "      <td>3</td>\n",
       "      <td>Went for a nice anniversary dinner. Researched...</td>\n",
       "      <td>0</td>\n",
       "      <td>CEtidlXNyQzgJSdF1ubPFw</td>\n",
       "    </tr>\n",
       "    <tr>\n",
       "      <th>4</th>\n",
       "      <td>--9e1ONYQuAa-CB_Rrw7Tw</td>\n",
       "      <td>Delmonico Steakhouse</td>\n",
       "      <td>Steakhouses, Restaurants, Cajun/Creole</td>\n",
       "      <td>4.0</td>\n",
       "      <td>0</td>\n",
       "      <td>2016-08-08</td>\n",
       "      <td>0</td>\n",
       "      <td>ir-EVhHyWna7KqYWtj660g</td>\n",
       "      <td>5</td>\n",
       "      <td>Hands down the best meal and service I have ev...</td>\n",
       "      <td>0</td>\n",
       "      <td>9_BhDyzJYf2JwTD9TyXJ4g</td>\n",
       "    </tr>\n",
       "  </tbody>\n",
       "</table>\n",
       "</div>"
      ],
      "text/plain": [
       "              business_id                  name  \\\n",
       "0  --9e1ONYQuAa-CB_Rrw7Tw  Delmonico Steakhouse   \n",
       "1  --9e1ONYQuAa-CB_Rrw7Tw  Delmonico Steakhouse   \n",
       "2  --9e1ONYQuAa-CB_Rrw7Tw  Delmonico Steakhouse   \n",
       "3  --9e1ONYQuAa-CB_Rrw7Tw  Delmonico Steakhouse   \n",
       "4  --9e1ONYQuAa-CB_Rrw7Tw  Delmonico Steakhouse   \n",
       "\n",
       "                               categories  avg_stars  cool        date  funny  \\\n",
       "0  Steakhouses, Restaurants, Cajun/Creole        4.0     0  2017-02-14      0   \n",
       "1  Steakhouses, Restaurants, Cajun/Creole        4.0     0  2017-12-04      0   \n",
       "2  Steakhouses, Restaurants, Cajun/Creole        4.0     0  2016-08-22      1   \n",
       "3  Steakhouses, Restaurants, Cajun/Creole        4.0     0  2016-09-13      0   \n",
       "4  Steakhouses, Restaurants, Cajun/Creole        4.0     0  2016-08-08      0   \n",
       "\n",
       "                review_id  stars  \\\n",
       "0  VETXTwMw6qxzOVDlXfe6Tg      5   \n",
       "1  S8-8uZ7fa5YbjnEtaW15ng      5   \n",
       "2  1nK5w0VNfDlnR3bOz13dJQ      5   \n",
       "3  N1Z93BthdJ7FT2p5S22jIA      3   \n",
       "4  ir-EVhHyWna7KqYWtj660g      5   \n",
       "\n",
       "                                                text  useful  \\\n",
       "0  went for dinner tonight. Amazing my husband ha...       0   \n",
       "1  This was an amazing dinning experience! ORDER ...       0   \n",
       "2  My husband and I went there for lunch on a Sat...       1   \n",
       "3  Went for a nice anniversary dinner. Researched...       0   \n",
       "4  Hands down the best meal and service I have ev...       0   \n",
       "\n",
       "                  user_id  \n",
       "0  ymlnR8UeFvB4FZL56tCZsA  \n",
       "1  9pSSL6X6lFpY3FCRLEH3og  \n",
       "2  gm8nNoA3uB4In5o_Hxpq3g  \n",
       "3  CEtidlXNyQzgJSdF1ubPFw  \n",
       "4  9_BhDyzJYf2JwTD9TyXJ4g  "
      ]
     },
     "execution_count": 28,
     "metadata": {},
     "output_type": "execute_result"
    }
   ],
   "source": [
    "# try reload the csv file to check if everything works find\n",
    "pd.read_csv(\"final_business.csv\", encoding=\"utf-8\").head()"
   ]
  },
  {
   "cell_type": "code",
   "execution_count": null,
   "metadata": {
    "collapsed": true
   },
   "outputs": [],
   "source": []
  }
 ],
 "metadata": {
  "anaconda-cloud": {},
  "kernelspec": {
   "display_name": "Python 3",
   "language": "python",
   "name": "python3"
  },
  "language_info": {
   "codemirror_mode": {
    "name": "ipython",
    "version": 3
   },
   "file_extension": ".py",
   "mimetype": "text/x-python",
   "name": "python",
   "nbconvert_exporter": "python",
   "pygments_lexer": "ipython3",
   "version": "3.6.3"
  }
 },
 "nbformat": 4,
 "nbformat_minor": 1
}
