{
 "cells": [
  {
   "cell_type": "markdown",
   "metadata": {},
   "source": [
    "# Yelp Data  - Clustering and PCA\n",
    "\n"
   ]
  },
  {
   "cell_type": "markdown",
   "metadata": {},
   "source": [
    "* Clustered text review data, inspect the centroids and find the top ten features for each centroids\n",
    "* Classified positive and negative reviews with preprocessing PCA, investigate elimination of colinearity using PCA on logistic regression "
   ]
  },
  {
   "cell_type": "code",
   "execution_count": 3,
   "metadata": {
    "collapsed": true
   },
   "outputs": [],
   "source": [
    "import pandas as pd\n",
    "import numpy as np\n",
    "import matplotlib.pyplot as plt\n",
    "% matplotlib inline\n",
    "plt.style.use(\"ggplot\")"
   ]
  },
  {
   "cell_type": "code",
   "execution_count": 4,
   "metadata": {
    "collapsed": true
   },
   "outputs": [],
   "source": [
    "df=pd.read_csv('final_business.csv')"
   ]
  },
  {
   "cell_type": "code",
   "execution_count": 3,
   "metadata": {},
   "outputs": [
    {
     "data": {
      "text/html": [
       "<div>\n",
       "<style>\n",
       "    .dataframe thead tr:only-child th {\n",
       "        text-align: right;\n",
       "    }\n",
       "\n",
       "    .dataframe thead th {\n",
       "        text-align: left;\n",
       "    }\n",
       "\n",
       "    .dataframe tbody tr th {\n",
       "        vertical-align: top;\n",
       "    }\n",
       "</style>\n",
       "<table border=\"1\" class=\"dataframe\">\n",
       "  <thead>\n",
       "    <tr style=\"text-align: right;\">\n",
       "      <th></th>\n",
       "      <th>business_id</th>\n",
       "      <th>name</th>\n",
       "      <th>categories</th>\n",
       "      <th>avg_stars</th>\n",
       "      <th>cool</th>\n",
       "      <th>date</th>\n",
       "      <th>funny</th>\n",
       "      <th>review_id</th>\n",
       "      <th>stars</th>\n",
       "      <th>text</th>\n",
       "      <th>useful</th>\n",
       "      <th>user_id</th>\n",
       "    </tr>\n",
       "  </thead>\n",
       "  <tbody>\n",
       "    <tr>\n",
       "      <th>0</th>\n",
       "      <td>--9e1ONYQuAa-CB_Rrw7Tw</td>\n",
       "      <td>Delmonico Steakhouse</td>\n",
       "      <td>Steakhouses, Restaurants, Cajun/Creole</td>\n",
       "      <td>4.0</td>\n",
       "      <td>0</td>\n",
       "      <td>2017-02-14</td>\n",
       "      <td>0</td>\n",
       "      <td>VETXTwMw6qxzOVDlXfe6Tg</td>\n",
       "      <td>5</td>\n",
       "      <td>went for dinner tonight. Amazing my husband ha...</td>\n",
       "      <td>0</td>\n",
       "      <td>ymlnR8UeFvB4FZL56tCZsA</td>\n",
       "    </tr>\n",
       "    <tr>\n",
       "      <th>1</th>\n",
       "      <td>--9e1ONYQuAa-CB_Rrw7Tw</td>\n",
       "      <td>Delmonico Steakhouse</td>\n",
       "      <td>Steakhouses, Restaurants, Cajun/Creole</td>\n",
       "      <td>4.0</td>\n",
       "      <td>0</td>\n",
       "      <td>2017-12-04</td>\n",
       "      <td>0</td>\n",
       "      <td>S8-8uZ7fa5YbjnEtaW15ng</td>\n",
       "      <td>5</td>\n",
       "      <td>This was an amazing dinning experience! ORDER ...</td>\n",
       "      <td>0</td>\n",
       "      <td>9pSSL6X6lFpY3FCRLEH3og</td>\n",
       "    </tr>\n",
       "    <tr>\n",
       "      <th>2</th>\n",
       "      <td>--9e1ONYQuAa-CB_Rrw7Tw</td>\n",
       "      <td>Delmonico Steakhouse</td>\n",
       "      <td>Steakhouses, Restaurants, Cajun/Creole</td>\n",
       "      <td>4.0</td>\n",
       "      <td>0</td>\n",
       "      <td>2016-08-22</td>\n",
       "      <td>1</td>\n",
       "      <td>1nK5w0VNfDlnR3bOz13dJQ</td>\n",
       "      <td>5</td>\n",
       "      <td>My husband and I went there for lunch on a Sat...</td>\n",
       "      <td>1</td>\n",
       "      <td>gm8nNoA3uB4In5o_Hxpq3g</td>\n",
       "    </tr>\n",
       "    <tr>\n",
       "      <th>3</th>\n",
       "      <td>--9e1ONYQuAa-CB_Rrw7Tw</td>\n",
       "      <td>Delmonico Steakhouse</td>\n",
       "      <td>Steakhouses, Restaurants, Cajun/Creole</td>\n",
       "      <td>4.0</td>\n",
       "      <td>0</td>\n",
       "      <td>2016-09-13</td>\n",
       "      <td>0</td>\n",
       "      <td>N1Z93BthdJ7FT2p5S22jIA</td>\n",
       "      <td>3</td>\n",
       "      <td>Went for a nice anniversary dinner. Researched...</td>\n",
       "      <td>0</td>\n",
       "      <td>CEtidlXNyQzgJSdF1ubPFw</td>\n",
       "    </tr>\n",
       "    <tr>\n",
       "      <th>4</th>\n",
       "      <td>--9e1ONYQuAa-CB_Rrw7Tw</td>\n",
       "      <td>Delmonico Steakhouse</td>\n",
       "      <td>Steakhouses, Restaurants, Cajun/Creole</td>\n",
       "      <td>4.0</td>\n",
       "      <td>0</td>\n",
       "      <td>2016-08-08</td>\n",
       "      <td>0</td>\n",
       "      <td>ir-EVhHyWna7KqYWtj660g</td>\n",
       "      <td>5</td>\n",
       "      <td>Hands down the best meal and service I have ev...</td>\n",
       "      <td>0</td>\n",
       "      <td>9_BhDyzJYf2JwTD9TyXJ4g</td>\n",
       "    </tr>\n",
       "  </tbody>\n",
       "</table>\n",
       "</div>"
      ],
      "text/plain": [
       "              business_id                  name  \\\n",
       "0  --9e1ONYQuAa-CB_Rrw7Tw  Delmonico Steakhouse   \n",
       "1  --9e1ONYQuAa-CB_Rrw7Tw  Delmonico Steakhouse   \n",
       "2  --9e1ONYQuAa-CB_Rrw7Tw  Delmonico Steakhouse   \n",
       "3  --9e1ONYQuAa-CB_Rrw7Tw  Delmonico Steakhouse   \n",
       "4  --9e1ONYQuAa-CB_Rrw7Tw  Delmonico Steakhouse   \n",
       "\n",
       "                               categories  avg_stars  cool        date  funny  \\\n",
       "0  Steakhouses, Restaurants, Cajun/Creole        4.0     0  2017-02-14      0   \n",
       "1  Steakhouses, Restaurants, Cajun/Creole        4.0     0  2017-12-04      0   \n",
       "2  Steakhouses, Restaurants, Cajun/Creole        4.0     0  2016-08-22      1   \n",
       "3  Steakhouses, Restaurants, Cajun/Creole        4.0     0  2016-09-13      0   \n",
       "4  Steakhouses, Restaurants, Cajun/Creole        4.0     0  2016-08-08      0   \n",
       "\n",
       "                review_id  stars  \\\n",
       "0  VETXTwMw6qxzOVDlXfe6Tg      5   \n",
       "1  S8-8uZ7fa5YbjnEtaW15ng      5   \n",
       "2  1nK5w0VNfDlnR3bOz13dJQ      5   \n",
       "3  N1Z93BthdJ7FT2p5S22jIA      3   \n",
       "4  ir-EVhHyWna7KqYWtj660g      5   \n",
       "\n",
       "                                                text  useful  \\\n",
       "0  went for dinner tonight. Amazing my husband ha...       0   \n",
       "1  This was an amazing dinning experience! ORDER ...       0   \n",
       "2  My husband and I went there for lunch on a Sat...       1   \n",
       "3  Went for a nice anniversary dinner. Researched...       0   \n",
       "4  Hands down the best meal and service I have ev...       0   \n",
       "\n",
       "                  user_id  \n",
       "0  ymlnR8UeFvB4FZL56tCZsA  \n",
       "1  9pSSL6X6lFpY3FCRLEH3og  \n",
       "2  gm8nNoA3uB4In5o_Hxpq3g  \n",
       "3  CEtidlXNyQzgJSdF1ubPFw  \n",
       "4  9_BhDyzJYf2JwTD9TyXJ4g  "
      ]
     },
     "execution_count": 3,
     "metadata": {},
     "output_type": "execute_result"
    }
   ],
   "source": [
    "df.head()"
   ]
  },
  {
   "cell_type": "code",
   "execution_count": 4,
   "metadata": {},
   "outputs": [
    {
     "data": {
      "text/plain": [
       "(473382, 12)"
      ]
     },
     "execution_count": 4,
     "metadata": {},
     "output_type": "execute_result"
    }
   ],
   "source": [
    "df.shape"
   ]
  },
  {
   "cell_type": "markdown",
   "metadata": {},
   "source": [
    "## 1. Cluster the review text data for all the restaurants"
   ]
  },
  {
   "cell_type": "code",
   "execution_count": 5,
   "metadata": {
    "collapsed": true
   },
   "outputs": [],
   "source": [
    "documents=df['text'].values"
   ]
  },
  {
   "cell_type": "code",
   "execution_count": 6,
   "metadata": {},
   "outputs": [
    {
     "data": {
      "text/plain": [
       "(473382,)"
      ]
     },
     "execution_count": 6,
     "metadata": {},
     "output_type": "execute_result"
    }
   ],
   "source": [
    "documents.shape"
   ]
  },
  {
   "cell_type": "markdown",
   "metadata": {},
   "source": [
    "### Define  target variable "
   ]
  },
  {
   "cell_type": "code",
   "execution_count": 6,
   "metadata": {
    "collapsed": true
   },
   "outputs": [],
   "source": [
    "# Make a column and take the values, save to a variable named \"target\"\n",
    "df['favorable']=(df['stars']>4)\n",
    "target=df['favorable'].values"
   ]
  },
  {
   "cell_type": "markdown",
   "metadata": {},
   "source": [
    "### Create training dataset and test dataset"
   ]
  },
  {
   "cell_type": "code",
   "execution_count": 7,
   "metadata": {},
   "outputs": [
    {
     "name": "stderr",
     "output_type": "stream",
     "text": [
      "/home/nellieliu0/anaconda3/lib/python3.6/site-packages/sklearn/cross_validation.py:41: DeprecationWarning: This module was deprecated in version 0.18 in favor of the model_selection module into which all the refactored classes and functions are moved. Also note that the interface of the new CV iterators are different from that of this module. This module will be removed in 0.20.\n",
      "  \"This module will be removed in 0.20.\", DeprecationWarning)\n"
     ]
    }
   ],
   "source": [
    "from sklearn.cross_validation import train_test_split"
   ]
  },
  {
   "cell_type": "code",
   "execution_count": 10,
   "metadata": {
    "collapsed": true
   },
   "outputs": [],
   "source": [
    "doc_train, doc_test,target_train, target_test=train_test_split(documents, target, test_size=0.8,random_state=2)\n",
    "# test size is big here due to limited computational capacity"
   ]
  },
  {
   "cell_type": "code",
   "execution_count": 11,
   "metadata": {},
   "outputs": [
    {
     "data": {
      "text/plain": [
       "(94676,)"
      ]
     },
     "execution_count": 11,
     "metadata": {},
     "output_type": "execute_result"
    }
   ],
   "source": [
    "doc_train.shape"
   ]
  },
  {
   "cell_type": "code",
   "execution_count": 12,
   "metadata": {},
   "outputs": [
    {
     "data": {
      "text/plain": [
       "(94676,)"
      ]
     },
     "execution_count": 12,
     "metadata": {},
     "output_type": "execute_result"
    }
   ],
   "source": [
    "target_train.shape"
   ]
  },
  {
   "cell_type": "markdown",
   "metadata": {},
   "source": [
    "### Get NLP representation of the documents\n",
    "\n",
    "#### Fit TfidfVectorizer with training data only, then tranform all the data to tf-idf"
   ]
  },
  {
   "cell_type": "code",
   "execution_count": 13,
   "metadata": {
    "collapsed": true
   },
   "outputs": [],
   "source": [
    "from sklearn.feature_extraction.text import TfidfVectorizer"
   ]
  },
  {
   "cell_type": "code",
   "execution_count": 14,
   "metadata": {
    "collapsed": true
   },
   "outputs": [],
   "source": [
    "\n",
    "vectorizer=TfidfVectorizer(stop_words='english', max_features=2000)\n"
   ]
  },
  {
   "cell_type": "code",
   "execution_count": 15,
   "metadata": {
    "collapsed": true
   },
   "outputs": [],
   "source": [
    "\n",
    "train_matrix=vectorizer.fit_transform(doc_train).toarray()"
   ]
  },
  {
   "cell_type": "code",
   "execution_count": 17,
   "metadata": {},
   "outputs": [
    {
     "data": {
      "text/plain": [
       "(94676, 2000)"
      ]
     },
     "execution_count": 17,
     "metadata": {},
     "output_type": "execute_result"
    }
   ],
   "source": [
    "train_matrix.shape    #94676 documents each one has 2000 tokens"
   ]
  },
  {
   "cell_type": "code",
   "execution_count": 18,
   "metadata": {
    "collapsed": true
   },
   "outputs": [],
   "source": [
    "# Get the vocab of  tfidf\n",
    "words=vectorizer.get_feature_names()"
   ]
  },
  {
   "cell_type": "code",
   "execution_count": 19,
   "metadata": {},
   "outputs": [
    {
     "data": {
      "text/plain": [
       "['yellow',\n",
       " 'yellowtail',\n",
       " 'yelp',\n",
       " 'yes',\n",
       " 'yesterday',\n",
       " 'york',\n",
       " 'young',\n",
       " 'yum',\n",
       " 'yummy',\n",
       " 'zero']"
      ]
     },
     "execution_count": 19,
     "metadata": {},
     "output_type": "execute_result"
    }
   ],
   "source": [
    "words[-10:]"
   ]
  },
  {
   "cell_type": "code",
   "execution_count": 22,
   "metadata": {
    "collapsed": true
   },
   "outputs": [],
   "source": [
    "# Use the trained model to transform all the reviews\n",
    "doc_matrix=vectorizer.transform(documents).toarray()"
   ]
  },
  {
   "cell_type": "code",
   "execution_count": 24,
   "metadata": {},
   "outputs": [
    {
     "data": {
      "text/plain": [
       "(473382,)"
      ]
     },
     "execution_count": 24,
     "metadata": {},
     "output_type": "execute_result"
    }
   ],
   "source": [
    "documents.shape"
   ]
  },
  {
   "cell_type": "code",
   "execution_count": 25,
   "metadata": {},
   "outputs": [
    {
     "data": {
      "text/plain": [
       "(473382, 2000)"
      ]
     },
     "execution_count": 25,
     "metadata": {},
     "output_type": "execute_result"
    }
   ],
   "source": [
    "doc_matrix.shape"
   ]
  },
  {
   "cell_type": "markdown",
   "metadata": {},
   "source": [
    "### Cluster reviews with KMeans"
   ]
  },
  {
   "cell_type": "markdown",
   "metadata": {},
   "source": [
    "#### Fit k-means clustering with the training vectors and apply it on all the data"
   ]
  },
  {
   "cell_type": "code",
   "execution_count": 28,
   "metadata": {},
   "outputs": [
    {
     "data": {
      "text/plain": [
       "KMeans(algorithm='auto', copy_x=True, init='k-means++', max_iter=300,\n",
       "    n_clusters=8, n_init=10, n_jobs=-1, precompute_distances='auto',\n",
       "    random_state=None, tol=0.0001, verbose=0)"
      ]
     },
     "execution_count": 28,
     "metadata": {},
     "output_type": "execute_result"
    }
   ],
   "source": [
    "from sklearn.cluster import KMeans\n",
    "kmeans=KMeans(n_jobs=-1)\n",
    "kmeans.fit(train_matrix)\n"
   ]
  },
  {
   "cell_type": "code",
   "execution_count": 30,
   "metadata": {},
   "outputs": [
    {
     "data": {
      "text/plain": [
       "(8, 2000)"
      ]
     },
     "execution_count": 30,
     "metadata": {},
     "output_type": "execute_result"
    }
   ],
   "source": [
    "kmeans.cluster_centers_.shape   # default is 8 clusters"
   ]
  },
  {
   "cell_type": "code",
   "execution_count": 33,
   "metadata": {},
   "outputs": [
    {
     "data": {
      "text/plain": [
       "array([0, 0, 2, 4, 4, 4, 0, 1], dtype=int32)"
      ]
     },
     "execution_count": 33,
     "metadata": {},
     "output_type": "execute_result"
    }
   ],
   "source": [
    "kmeans.labels_[:8]"
   ]
  },
  {
   "cell_type": "code",
   "execution_count": 34,
   "metadata": {},
   "outputs": [
    {
     "data": {
      "text/plain": [
       "89105.560117179615"
      ]
     },
     "execution_count": 34,
     "metadata": {},
     "output_type": "execute_result"
    }
   ],
   "source": [
    "kmeans.inertia_     # sum of squared distances of samples to their closest cluster center"
   ]
  },
  {
   "cell_type": "code",
   "execution_count": 37,
   "metadata": {},
   "outputs": [
    {
     "data": {
      "text/plain": [
       "-89105.560117179659"
      ]
     },
     "execution_count": 37,
     "metadata": {},
     "output_type": "execute_result"
    }
   ],
   "source": [
    "kmeans.score(train_matrix)"
   ]
  },
  {
   "cell_type": "markdown",
   "metadata": {},
   "source": [
    "#### Make predictions "
   ]
  },
  {
   "cell_type": "code",
   "execution_count": 38,
   "metadata": {
    "collapsed": true
   },
   "outputs": [],
   "source": [
    "assigned_clusters=kmeans.predict(train_matrix)"
   ]
  },
  {
   "cell_type": "markdown",
   "metadata": {},
   "source": [
    "#### Inspect the centroids\n",
    "\n",
    "Inspect the centroids to find out what topics each cluster covers. First map these centroids' vectors back to wrod space, regard each dimension of the centroid vector as representing the average review of the words in that cluster."
   ]
  },
  {
   "cell_type": "code",
   "execution_count": 41,
   "metadata": {},
   "outputs": [
    {
     "data": {
      "text/plain": [
       "(2000,)"
      ]
     },
     "execution_count": 41,
     "metadata": {},
     "output_type": "execute_result"
    }
   ],
   "source": [
    "kmeans.cluster_centers_[0].shape  # just one vector"
   ]
  },
  {
   "cell_type": "markdown",
   "metadata": {},
   "source": [
    "#### Find the top 10 features for each cluster.\n",
    "\n",
    "* Sort each centroid vector to find the top 10 features\n",
    "* Go back to  vectorizer object to find out what words each of these features corresponds to\n"
   ]
  },
  {
   "cell_type": "code",
   "execution_count": 46,
   "metadata": {
    "collapsed": true
   },
   "outputs": [],
   "source": [
    "n_feat=10\n",
    "top_centroids=kmeans.cluster_centers_.argsort()[:,-1:-n_feat:-1]"
   ]
  },
  {
   "cell_type": "code",
   "execution_count": 60,
   "metadata": {},
   "outputs": [
    {
     "data": {
      "text/plain": [
       "(8, 9)"
      ]
     },
     "execution_count": 60,
     "metadata": {},
     "output_type": "execute_result"
    }
   ],
   "source": [
    "top_centroids.shape"
   ]
  },
  {
   "cell_type": "code",
   "execution_count": 47,
   "metadata": {},
   "outputs": [
    {
     "data": {
      "text/plain": [
       "array([1291,  678, 1877,  168,   64,  475, 1003, 1541,  965])"
      ]
     },
     "execution_count": 47,
     "metadata": {},
     "output_type": "execute_result"
    }
   ],
   "source": [
    "top_centroids[0]"
   ]
  },
  {
   "cell_type": "code",
   "execution_count": 51,
   "metadata": {},
   "outputs": [
    {
     "data": {
      "text/plain": [
       "['place',\n",
       " 'food',\n",
       " 'vegas',\n",
       " 'best',\n",
       " 'amazing',\n",
       " 'delicious',\n",
       " 'love',\n",
       " 'service',\n",
       " 'like']"
      ]
     },
     "execution_count": 51,
     "metadata": {},
     "output_type": "execute_result"
    }
   ],
   "source": [
    "[words[i] for i in top_centroids[0]]"
   ]
  },
  {
   "cell_type": "code",
   "execution_count": 52,
   "metadata": {},
   "outputs": [
    {
     "data": {
      "text/plain": [
       "'place,food,vegas,best,amazing,delicious,love,service,like'"
      ]
     },
     "execution_count": 52,
     "metadata": {},
     "output_type": "execute_result"
    }
   ],
   "source": [
    "\",\".join(words[i] for i in top_centroids[0])"
   ]
  },
  {
   "cell_type": "code",
   "execution_count": 54,
   "metadata": {},
   "outputs": [
    {
     "name": "stdout",
     "output_type": "stream",
     "text": [
      "0: place,food,vegas,best,amazing,delicious,love,service,like\n",
      "1: food,order,time,minutes,just,service,came,didn,like\n",
      "2: good,food,really,place,service,nice,pretty,like,great\n",
      "3: sushi,rolls,place,roll,ayce,great,good,fresh,service\n",
      "4: great,food,service,place,amazing,friendly,awesome,definitely,staff\n",
      "5: chicken,fried,rice,food,good,ordered,place,great,sauce\n",
      "6: burger,fries,burgers,good,shake,cheese,place,food,great\n",
      "7: pizza,crust,good,place,great,cheese,slice,pepperoni,just\n"
     ]
    }
   ],
   "source": [
    "for num, centroid in enumerate(top_centroids):\n",
    "    print(\"%d: %s\" % (num, \",\".join(words[i] for i in centroid)))"
   ]
  },
  {
   "cell_type": "markdown",
   "metadata": {},
   "source": [
    "#### Try different k\n"
   ]
  },
  {
   "cell_type": "code",
   "execution_count": 55,
   "metadata": {},
   "outputs": [
    {
     "data": {
      "text/plain": [
       "KMeans(algorithm='auto', copy_x=True, init='k-means++', max_iter=300,\n",
       "    n_clusters=6, n_init=10, n_jobs=-1, precompute_distances='auto',\n",
       "    random_state=None, tol=0.0001, verbose=0)"
      ]
     },
     "execution_count": 55,
     "metadata": {},
     "output_type": "execute_result"
    }
   ],
   "source": [
    "from sklearn.cluster import KMeans\n",
    "kmeans_6=KMeans(n_clusters=6,n_jobs=-1)\n",
    "kmeans_6.fit(train_matrix)"
   ]
  },
  {
   "cell_type": "code",
   "execution_count": 58,
   "metadata": {},
   "outputs": [
    {
     "data": {
      "text/plain": [
       "10"
      ]
     },
     "execution_count": 58,
     "metadata": {},
     "output_type": "execute_result"
    }
   ],
   "source": [
    "n_feat"
   ]
  },
  {
   "cell_type": "code",
   "execution_count": 59,
   "metadata": {},
   "outputs": [
    {
     "data": {
      "text/plain": [
       "(6, 2000)"
      ]
     },
     "execution_count": 59,
     "metadata": {},
     "output_type": "execute_result"
    }
   ],
   "source": [
    "kmeans_6.cluster_centers_.shape"
   ]
  },
  {
   "cell_type": "code",
   "execution_count": 56,
   "metadata": {
    "collapsed": true
   },
   "outputs": [],
   "source": [
    "top_centroids_6=kmeans_6.cluster_centers_.argsort()[:,-1:-n_feat:-1]"
   ]
  },
  {
   "cell_type": "code",
   "execution_count": 57,
   "metadata": {},
   "outputs": [
    {
     "data": {
      "text/plain": [
       "(6, 9)"
      ]
     },
     "execution_count": 57,
     "metadata": {},
     "output_type": "execute_result"
    }
   ],
   "source": [
    "top_centroids_6.shape"
   ]
  },
  {
   "cell_type": "code",
   "execution_count": 63,
   "metadata": {},
   "outputs": [
    {
     "name": "stdout",
     "output_type": "stream",
     "text": [
      "0 [1725 1463 1291 1461  120  756  742  693 1541]\n",
      "1 [ 742  678 1291 1877  168 1541  475  965   64]\n",
      "2 [ 316  742 1450  696  678 1381 1291 1196 1768]\n",
      "3 [ 756  678 1541 1291   64  742  698  473 1655]\n",
      "4 [1289  443  742 1291  756  307 1587 1258 1785]\n",
      "5 [ 678 1195 1785 1541  908 1088  263  490  965]\n"
     ]
    }
   ],
   "source": [
    "for num, centroid in enumerate(top_centroids_6):\n",
    "    print(num,centroid)"
   ]
  },
  {
   "cell_type": "code",
   "execution_count": 62,
   "metadata": {},
   "outputs": [
    {
     "name": "stdout",
     "output_type": "stream",
     "text": [
      "0: sushi,rolls,place,roll,ayce,great,good,fresh,service\n",
      "1: good,food,place,vegas,best,service,delicious,like,amazing\n",
      "2: chicken,good,rice,fried,food,ramen,place,ordered,thai\n",
      "3: great,food,service,place,amazing,good,friendly,definitely,staff\n",
      "4: pizza,crust,good,place,great,cheese,slice,pepperoni,time\n",
      "5: food,order,time,service,just,minutes,came,didn,like\n"
     ]
    }
   ],
   "source": [
    "for num, centroid in enumerate(top_centroids_6):\n",
    "    print ( \"%d: %s\" % (num, \",\".join(words[i] for i in centroid)))"
   ]
  },
  {
   "cell_type": "markdown",
   "metadata": {
    "collapsed": true
   },
   "source": [
    "### Different k does not give very different results, each category still has pretty much similar topics"
   ]
  },
  {
   "cell_type": "code",
   "execution_count": 78,
   "metadata": {},
   "outputs": [
    {
     "data": {
      "text/plain": [
       "(37010,)"
      ]
     },
     "execution_count": 78,
     "metadata": {},
     "output_type": "execute_result"
    }
   ],
   "source": [
    "np.arange(0, train_matrix.shape[0])[assigned_clusters==0].shape"
   ]
  },
  {
   "cell_type": "code",
   "execution_count": 79,
   "metadata": {
    "collapsed": true
   },
   "outputs": [],
   "source": [
    "# there are 37010 documents assigned to cluster0"
   ]
  },
  {
   "cell_type": "code",
   "execution_count": 80,
   "metadata": {},
   "outputs": [
    {
     "data": {
      "text/plain": [
       "(14786,)"
      ]
     },
     "execution_count": 80,
     "metadata": {},
     "output_type": "execute_result"
    }
   ],
   "source": [
    "np.arange(0, train_matrix.shape[0])[assigned_clusters==1].shape"
   ]
  },
  {
   "cell_type": "code",
   "execution_count": 82,
   "metadata": {},
   "outputs": [
    {
     "data": {
      "text/plain": [
       "13406"
      ]
     },
     "execution_count": 82,
     "metadata": {},
     "output_type": "execute_result"
    }
   ],
   "source": [
    "np.arange(0, train_matrix.shape[0])[assigned_clusters==2].shape[0]"
   ]
  },
  {
   "cell_type": "code",
   "execution_count": 83,
   "metadata": {
    "collapsed": true
   },
   "outputs": [],
   "source": [
    "cluster_no=[]\n",
    "for i in range(8):\n",
    "    cluster_no.append(np.arange(0, train_matrix.shape[0])[assigned_clusters==i].shape[0])"
   ]
  },
  {
   "cell_type": "code",
   "execution_count": 84,
   "metadata": {},
   "outputs": [
    {
     "data": {
      "text/plain": [
       "[37010, 14786, 13406, 3148, 11868, 7650, 3316, 3492]"
      ]
     },
     "execution_count": 84,
     "metadata": {},
     "output_type": "execute_result"
    }
   ],
   "source": [
    "cluster_no   # stores how many documents in each cluster"
   ]
  },
  {
   "cell_type": "code",
   "execution_count": 88,
   "metadata": {},
   "outputs": [
    {
     "data": {
      "text/plain": [
       "array([1, 2, 3, 4, 5, 6, 7, 8])"
      ]
     },
     "execution_count": 88,
     "metadata": {},
     "output_type": "execute_result"
    }
   ],
   "source": [
    "np.arange(1,9)"
   ]
  },
  {
   "cell_type": "markdown",
   "metadata": {
    "collapsed": true
   },
   "source": [
    "### I want to check how many data points fall into each cluster and whether that means anyting"
   ]
  },
  {
   "cell_type": "code",
   "execution_count": 90,
   "metadata": {},
   "outputs": [
    {
     "data": {
      "text/plain": [
       "[<matplotlib.lines.Line2D at 0x7fcf8e925208>]"
      ]
     },
     "execution_count": 90,
     "metadata": {},
     "output_type": "execute_result"
    },
    {
     "data": {
      "image/png": "[encoded data removed]",
      "text/plain": [
       "<matplotlib.figure.Figure at 0x7fcf8e747898>"
      ]
     },
     "metadata": {},
     "output_type": "display_data"
    }
   ],
   "source": [
    "plt.plot(cluster_no)"
   ]
  },
  {
   "cell_type": "markdown",
   "metadata": {
    "collapsed": true
   },
   "source": [
    "###\n",
    "    The third and six seventh clusters has less documents than the rest, I want to take a look at the first and then the thrid and six"
   ]
  },
  {
   "cell_type": "code",
   "execution_count": 92,
   "metadata": {
    "collapsed": true
   },
   "outputs": [],
   "source": [
    "cluster_index=np.arange(0, train_matrix.shape[0])[assigned_clusters==0]"
   ]
  },
  {
   "cell_type": "code",
   "execution_count": 93,
   "metadata": {},
   "outputs": [
    {
     "data": {
      "text/plain": [
       "array([    0,     1,     6, ..., 94670, 94673, 94675])"
      ]
     },
     "execution_count": 93,
     "metadata": {},
     "output_type": "execute_result"
    }
   ],
   "source": [
    "cluster_index"
   ]
  },
  {
   "cell_type": "code",
   "execution_count": 106,
   "metadata": {
    "collapsed": true
   },
   "outputs": [],
   "source": [
    "rand_index=np.random.choice(cluster_index, 5, replace=False)  # randomly choose two index from cluster index"
   ]
  },
  {
   "cell_type": "code",
   "execution_count": 101,
   "metadata": {},
   "outputs": [
    {
     "data": {
      "text/plain": [
       "5"
      ]
     },
     "execution_count": 101,
     "metadata": {},
     "output_type": "execute_result"
    }
   ],
   "source": [
    "df.iloc[cluster_index[0]]['stars']"
   ]
  },
  {
   "cell_type": "code",
   "execution_count": 103,
   "metadata": {},
   "outputs": [
    {
     "data": {
      "text/plain": [
       "\"went for dinner tonight. Amazing my husband had lobster bisque and the T bone both were delish.I had the French onion soup and the pan seared duck. Cooked to perfection and I'm still raving about the flavor. If you are ever in Vegas this is a must try.\""
      ]
     },
     "execution_count": 103,
     "metadata": {},
     "output_type": "execute_result"
    }
   ],
   "source": [
    "df.iloc[cluster_index[0]]['text']"
   ]
  },
  {
   "cell_type": "code",
   "execution_count": 104,
   "metadata": {},
   "outputs": [
    {
     "data": {
      "text/plain": [
       "5"
      ]
     },
     "execution_count": 104,
     "metadata": {},
     "output_type": "execute_result"
    }
   ],
   "source": [
    "df.iloc[cluster_index[1]]['stars']"
   ]
  },
  {
   "cell_type": "code",
   "execution_count": 105,
   "metadata": {},
   "outputs": [
    {
     "data": {
      "text/plain": [
       "'This was an amazing dinning experience! ORDER THE PORK CHOP! I will definitely return.'"
      ]
     },
     "execution_count": 105,
     "metadata": {},
     "output_type": "execute_result"
    }
   ],
   "source": [
    "df.iloc[cluster_index[1]]['text']"
   ]
  },
  {
   "cell_type": "code",
   "execution_count": 107,
   "metadata": {},
   "outputs": [
    {
     "name": "stdout",
     "output_type": "stream",
     "text": [
      "5\n",
      "I just had to post another review about this place. We love coming here for their coffees and food. A must try is their fresh baked cookies. They run out really fast! Every time we fly back to California, we are cleaning out their almond croissants and chocolate croissants to take to everyone who tried this place out with us. So if it's all sold out, lol sorry it was me! If you like thin crust and crispy pizza, you'll love the pizza here! They give coffee refills if you're dinning in ;) So don't be afraid to ask. All the workers are so nice here so don't forget to leave them a nice tip! They deserve it and the owner himself works as hard to serve everyone too. Hope this was helpful!\n",
      "5\n",
      "This is our go to place for breakfast in Vegas. Love the service, love the food! Chill relaxed environment!  Our top pick for breakfast!\n",
      "5\n",
      "Great find in the downtown area. Freemont East section in the Container Park. Hot dogs hit the spot. Also have Turkey and Vegan dogs.  Loved it.\n",
      "5\n",
      "This has quickly become one of my favorite spots as a Vegan newbie! My go to selections have been garlic edamame, seaweed salad & Vegetable Miso Ramen. Just delicious! I actually crave the seaweed salad! The service is always accommodating & friendly. This has now become a weekly dinner spot for me!\n",
      "1\n",
      "Had dinner at the restaurant Culici Town. This was the worst restaurant experience I have ever had. Myself and a group of people got together for a celebration. While dining in the establishment it took 20 minutes to get our first drink order. When we placed our order for food we received a portion of what we had ordered. The food was not good at all. The chicken nuggets arrived soggy and full of grease and everything else was cold. When we asked to speak to the manager it took 15 minutes for him to arrive, he stopped and spoke to the people next to us and proceeded to walk away. My husband to hail him down and ask him to come back. We informed him of the issues and he said he would look into it. 30 minutes later he nor our waiter returned.  People from our party started to leave and we had not received a bill yet. After someone hunted the manager down again he arrived with the bill, stated that he could not locate our waiter and advised us he had taken 20% off. After careful calculation we realized we had been charged for food and drinks we never received and that issue to another 20 minutes to clear up. \n",
      "\n",
      "Outside of the service issue there were a couple of other problems. The establishment has a live band that plays Banda music. The musicians go out into the crowd, sing to people, and take special request. They refused to pay any attention to me when My husband requested a song but when the table next to us made the same request they played it. I am not sure if the issue was they did not understand his Spanish or maybe it was the color of his skin. Let me make something clear Hispanics come in all shades of the rainbow and apparently so does ignorance. I recorded a video of him and the way the musician turned his back on him when he made the request. \n",
      "\n",
      "The other issue I had with this establishment was while attempting to take care of the billing situation at the register the manager was to busy eating Ramens  he got from another establishment to assist the young lady in correcting the errors on our bill. The reason I know this is because he sat out in the open eating them with a couple of his friends. I don't know about some people but I am a little turned off when individuals that work at an eating establishment don't eat their own food or they eat food from somewhere else out in the public eye. \n",
      "\n",
      "Maybe this establishment does not care about making themselves or the casino money an the community they do business in. From what I have read and heard throughout the casino there seems to be a general theme of horrible service. \n",
      "\n",
      "If it were not for the fact that this establishment is located in a casino and the consequence of getting black listed from all of their sister casinos we would have all walked out and not paid the bill.\n"
     ]
    }
   ],
   "source": [
    "# this is to show 5 random text and stars from cluster 0\n",
    "for index in rand_index:\n",
    "    print(df.iloc[index]['stars'])\n",
    "    print(df.iloc[index]['text'])"
   ]
  },
  {
   "cell_type": "markdown",
   "metadata": {
    "collapsed": true
   },
   "source": [
    "### Here I did not find anything particular, imbalanced data points in different clusters might just be a normal thing"
   ]
  },
  {
   "cell_type": "markdown",
   "metadata": {
    "collapsed": true
   },
   "source": [
    "###  Now i want to look at the average stars for each cluster, see whether they are very different"
   ]
  },
  {
   "cell_type": "code",
   "execution_count": 118,
   "metadata": {},
   "outputs": [
    {
     "data": {
      "text/plain": [
       "array(['business_id', 'name', 'categories', 'avg_stars', 'cool', 'date',\n",
       "       'funny', 'review_id', 'stars', 'text', 'useful', 'user_id',\n",
       "       'favorable'], dtype=object)"
      ]
     },
     "execution_count": 118,
     "metadata": {},
     "output_type": "execute_result"
    }
   ],
   "source": [
    "df.columns.values"
   ]
  },
  {
   "cell_type": "code",
   "execution_count": 125,
   "metadata": {
    "collapsed": true
   },
   "outputs": [],
   "source": [
    "#now check out every cluster's average rating"
   ]
  },
  {
   "cell_type": "code",
   "execution_count": 127,
   "metadata": {
    "collapsed": true
   },
   "outputs": [],
   "source": [
    "avg_star=[]\n",
    "for n in range(8):\n",
    "    cluster_index=np.arange(0, train_matrix.shape[0])[assigned_clusters==n]\n",
    "    avg_star.append(df.iloc[cluster_index]['stars'].mean())"
   ]
  },
  {
   "cell_type": "code",
   "execution_count": 128,
   "metadata": {},
   "outputs": [
    {
     "data": {
      "text/plain": [
       "[3.8432585787624967,\n",
       " 3.8631813877992696,\n",
       " 3.8440996568700583,\n",
       " 3.8370393900889455,\n",
       " 3.8445399393326594,\n",
       " 3.8444444444444446,\n",
       " 3.802774427020507,\n",
       " 3.859106529209622]"
      ]
     },
     "execution_count": 128,
     "metadata": {},
     "output_type": "execute_result"
    }
   ],
   "source": [
    "avg_star"
   ]
  },
  {
   "cell_type": "markdown",
   "metadata": {
    "collapsed": true
   },
   "source": [
    "### It turns out all cluster has similar average ratings, looks very obvious no need to run ANOVA then"
   ]
  },
  {
   "cell_type": "code",
   "execution_count": 111,
   "metadata": {
    "collapsed": true
   },
   "outputs": [],
   "source": [
    "rand_index_3=np.random.choice(cluster_index, 5, replace=False) "
   ]
  },
  {
   "cell_type": "code",
   "execution_count": 113,
   "metadata": {},
   "outputs": [
    {
     "name": "stdout",
     "output_type": "stream",
     "text": [
      "reviews from the third cluster with less documents\n",
      "5\n",
      "Holy crap, this place is great. Here right now, and the service is great. The sushi is amazing. General manager has checked on me twice.  Japanese pickles are great for sharing. Salmon is really buttery, and a deal at $2 each. Egg custard is rich and smooth.\n",
      "5\n",
      "Dropped in to try out the Almond coffee milk tea(5/5) and i love it. The drink was sweeten to perfection and the boba was soft and chewy. I will return to try out more flavors.\n",
      "3\n",
      "Location was fairly easy. We came here in the evening and parking was jammed pack. Once we walked in, the establishment was nearly empty and a cashier looked tired, yawning at our presence. It was 7:30pm, really?\n",
      "\n",
      "We were seated and our menu was brought to us. It had no pictures but pictures of the food were on the wall. My parents don't speak or read Chinese or English so it was difficult for them to convey what they wanted to eat. After about 15 minutes, after going through and explaining what was available, we ordered about 4-5 dishes to try. \n",
      "\n",
      "The waitor came to give us our drinks then the next half hour in 5 minute intervals, they brought out the food. Everything was just ok. Some items weren't seasoned well or didn't have the flavors we were expecting. The shrimp wonton soup was the most delicious item we had that night. It was flavorful and hot, cooked to perfection. \n",
      "\n",
      "Overall, it's a nice place to try but my parents thought it was the worst meal we had in Vegas because everything was so bland. Our drinks (just ice water) wasn't refilled and the waitor wasn't attentive. We left disappointed. May give it a try again but more than likely not. There are so many other places to eat in Vegas.\n",
      "4\n",
      "For me this is the better half of The Butcher Block;)  \n",
      "It's quite simple really as why- no cooking, no mess!  \n",
      "Boar's Head products abound and freshly made salads of your choice.  I gravitate towards their fresh heirloom tomato salad.  Did you go in earlier today and you think you perused over it. Absolutely not, I purchased the last two pounds this afternoon.  Go back tomorrow please, they open at 10am. Yes, it's that tasty:)\n",
      "Attentive service today and always.  Sandwiches made to order or just simply order an array of those Boar's Head cold cuts and a couple of side salads to go.  Perhaps you can't wait- even better.  Get this, they have seating as well and tv entertainment while you try that heirloom salad!\n",
      "Meats can be taken home or served on the spot.  Wait, why not both! Genius! So both is what you will be walking out the door with:)\n",
      "5\n",
      "This is by far the best middle eastern food I have had in the US! From the service (Rose water hand washing!!!) to the dancers, to the intimate setting, it was just a wonderful experience. \n",
      "\n",
      "The shrimp was my husband's favourite but the kabob (very tender and perfectly seasoned) was mine. You absolutely cannot leave without getting the b'stilla - a delicate dessert that just closes off the night perfectly.\n"
     ]
    }
   ],
   "source": [
    "print('reviews from the third cluster with less documents')\n",
    "for index in rand_index_3:\n",
    "    print(df.iloc[index]['stars'])\n",
    "    print(df.iloc[index]['text'])"
   ]
  },
  {
   "cell_type": "code",
   "execution_count": 129,
   "metadata": {
    "collapsed": true
   },
   "outputs": [],
   "source": [
    "# check out the last cluster with less documents in it too"
   ]
  },
  {
   "cell_type": "code",
   "execution_count": 130,
   "metadata": {
    "collapsed": true
   },
   "outputs": [],
   "source": [
    "cluster_index_7=np.arange(0, train_matrix.shape[0])[assigned_clusters==7]\n",
    "rand_index_7=np.random.choice(cluster_index_7, 5, replace=False)"
   ]
  },
  {
   "cell_type": "code",
   "execution_count": 131,
   "metadata": {},
   "outputs": [
    {
     "name": "stdout",
     "output_type": "stream",
     "text": [
      "reviews from the last cluster with less documents\n",
      "3\n",
      "The spicy chicken waffle sandwich wasn't very spicy. So that was a bummer but the flavor was good.\n",
      "\n",
      "I think I'm being picky because I've had better fried chicken. Buuut, I will say that the waffle was pretty delicious. Perfect crispy texture on the outside while having that thin light fluffy interior you expect from waffles on the inside.\n",
      "\n",
      "They have their waffles DOWN. The fried chicken is just not the best that I've had.\n",
      "\n",
      "I will say though, I love the concept of the restaurant. Waffle sandwiches stuffed with fried chicken? What's not to love?\n",
      "\n",
      "This place isn't perfect. It's not the best sandwich I've ever hand. It's not a sandwich that I couldn't dare to dream without. But you can't really go wrong with a fried chicken/waffle pairing and this place does it pretty well.\n",
      "\n",
      "3 stars because I wouldn't really go out of my way to come here. But if you were in the area, it wouldn't be a bad choice for a meal.\n",
      "5\n",
      "O.M.G! This place is so good! I'm a bit of a sandwich snob. And when I want an Italian deli sandwich portasubs and subway and the like leave me lacking. I saw this place on Yelp, and saw they use Boars Head products. Already a plus. I stopped off today and picked up lunch for my husband and I. I'm in love. The food is amazing, the people were friendly, and wait was really short for fresh to order sandwiches. I got myself the Block sandwich and my husband the hot pastrami on rye and ordered the BBQ egg rolls for us to share. All of it was great. \n",
      "\n",
      "Now the only things I would like to see changed are personal preference I guess. Still a 5 star rating. \n",
      "1 - I hated that the only menu that they had to look over was taped do their counter, I felt like I was holding up the cashier and the person behind me because I was a newbie to this place and had no idea what to order. I had to let the customer behind me know she could go ahead and that I was still looking. If there had been a menu I could take and look at and return, I wouldn't have felt so rushed to make a decision. \n",
      "\n",
      "2- the BBQ egg rolls are good. But the sauce with them is not the right pairing. It needs to be like a ranch BBQ or BBQ type sauce. It's this weird thousand island type dressing that just doesn't really work with the pork.\n",
      "5\n",
      "Daniel was our cook. Amazingly entertaining. He made our visit here fun. Will defiantly ask for him the next time we come back.\n",
      "4\n",
      "Great place!!\n",
      "Wonderful wings!  Probably some of the best wings - ever!\n",
      "The Hangover burger is also really tasty!\n",
      "The beer selection is crazy good!\n",
      "It's a nice styled place and most of the staff is friendly. We also like the hotel where is located.  Great pool, big rooms.\n",
      "Go check it out!\n",
      "5\n",
      "The food was excellent!! Everyone in our party raved about their meals...sunrise mountain, breakfast skillet, and the stuffed french toast...oh and we cant forget that banana nut muffin (omg!). We all agreed next time in Vegas this will be our spot. Service was great. They even sung Happy Birthday to my friend. Oh and expect a line for Sunday brunch, but so worth the wait.\n"
     ]
    }
   ],
   "source": [
    "print('reviews from the last cluster with less documents')\n",
    "for index in rand_index_7:\n",
    "    print(df.iloc[index]['stars'])\n",
    "    print(df.iloc[index]['text'])"
   ]
  },
  {
   "cell_type": "markdown",
   "metadata": {},
   "source": [
    "### \n",
    "    From the cluster centroid and examples, i feel like each cluster is focusing on different perspective: one cluster mainly about food, others maybe about service, enviornment, since these aspects are major ones that people care about,  yelp may design review systems to let user explicitly rate these aspects so that restaurants owns can see and improve in certain ways"
   ]
  },
  {
   "cell_type": "markdown",
   "metadata": {},
   "source": [
    "## 2. Cluster all the reviews of the most reviewed restaurant\n",
    "find the most reviewed restaurant and analyze its reviews"
   ]
  },
  {
   "cell_type": "code",
   "execution_count": 3,
   "metadata": {
    "collapsed": true
   },
   "outputs": [],
   "source": [
    "most_reviews=df['business_id'].value_counts().index[0]"
   ]
  },
  {
   "cell_type": "code",
   "execution_count": 4,
   "metadata": {
    "collapsed": true
   },
   "outputs": [],
   "source": [
    "df_top=df[df['business_id']==most_reviews].copy()"
   ]
  },
  {
   "cell_type": "code",
   "execution_count": 148,
   "metadata": {},
   "outputs": [
    {
     "data": {
      "text/plain": [
       "(3465, 13)"
      ]
     },
     "execution_count": 148,
     "metadata": {},
     "output_type": "execute_result"
    }
   ],
   "source": [
    "df_top.shape"
   ]
  },
  {
   "cell_type": "markdown",
   "metadata": {},
   "source": [
    "### Vectorize the text feature"
   ]
  },
  {
   "cell_type": "code",
   "execution_count": 5,
   "metadata": {
    "collapsed": true
   },
   "outputs": [],
   "source": [
    "documents_top=df_top['text'].values"
   ]
  },
  {
   "cell_type": "code",
   "execution_count": 151,
   "metadata": {},
   "outputs": [
    {
     "data": {
      "text/plain": [
       "(3465,)"
      ]
     },
     "execution_count": 151,
     "metadata": {},
     "output_type": "execute_result"
    }
   ],
   "source": [
    "documents_top.shape"
   ]
  },
  {
   "cell_type": "markdown",
   "metadata": {},
   "source": [
    "### Define  target variable "
   ]
  },
  {
   "cell_type": "code",
   "execution_count": 6,
   "metadata": {
    "collapsed": true
   },
   "outputs": [],
   "source": [
    "df_top['fav'] = (df_top['stars'] > 4)\n",
    "target_top=df_top['fav'].values.astype(int)\n"
   ]
  },
  {
   "cell_type": "markdown",
   "metadata": {},
   "source": [
    "### Create training dataset and test dataset"
   ]
  },
  {
   "cell_type": "code",
   "execution_count": 9,
   "metadata": {},
   "outputs": [
    {
     "name": "stderr",
     "output_type": "stream",
     "text": [
      "/home/nellieliu0/anaconda3/lib/python3.6/site-packages/sklearn/cross_validation.py:41: DeprecationWarning: This module was deprecated in version 0.18 in favor of the model_selection module into which all the refactored classes and functions are moved. Also note that the interface of the new CV iterators are different from that of this module. This module will be removed in 0.20.\n",
      "  \"This module will be removed in 0.20.\", DeprecationWarning)\n"
     ]
    }
   ],
   "source": [
    "from sklearn.cross_validation import train_test_split"
   ]
  },
  {
   "cell_type": "code",
   "execution_count": 10,
   "metadata": {
    "collapsed": true
   },
   "outputs": [],
   "source": [
    "# documents_top_restaurant is your X, target_top_restaurant is your y\n",
    "# Now split the data to training set and test set\n",
    "# Now your data is smaller, you can use a typical \"test_size\", e.g. 0.3-0.7\n",
    "X_train, X_test, y_train, y_test = train_test_split(\n",
    "    documents_top, target_top, test_size=0.40, random_state=42)"
   ]
  },
  {
   "cell_type": "code",
   "execution_count": 158,
   "metadata": {},
   "outputs": [
    {
     "data": {
      "text/plain": [
       "(2079,)"
      ]
     },
     "execution_count": 158,
     "metadata": {},
     "output_type": "execute_result"
    }
   ],
   "source": [
    "X_train.shape"
   ]
  },
  {
   "cell_type": "code",
   "execution_count": 159,
   "metadata": {},
   "outputs": [
    {
     "data": {
      "text/plain": [
       "array([ 'Terrible queuing system. Wait to get into another line to wait to sit down. 1 hour wait to get in line to pay, 20 minutes to then pay, and an additional hour after paying to get seated. A lot of people were cutting in line at the \"6 or more persons\" line and the workers not even stopping them. Very disorganized. Will not be coming back.',\n",
       "       'Overrated! The meat selection was great until we realized everything was rare-medium. My party prefer our cows all the way cooked. Food was cold, selection as ok, just not worth the 65.00 we paid.',\n",
       "       \"If you have only ever been to a strip-mall meatloaf and mashed potatoes buffet, this is going to blow your mind!  If you've had brunch at s fancy hotel, this will disappoint.  It's all a matter of perspective.\\n\\nFood:  \\nPros: variety & presentation.  \\nCons: taste and quality.  We walked in with high expectations because of all the glowing reviews and we walked out disappointed and a little hungry.  \\n\\nThe bad:\\nCrab: terrible quality; very stringy and gross\\nClams: delicious but super sandy!\\nCarved meats: dry and tasteless \\nAsian food: worse than Panda Express \\nDessert: I love sweets but these fell flat.  As with everything, the presentation and variety were good (if you don't count the obviously moldy raspberry on one dessert) but the taste and quality were not great.  I let my sugar-fiend 4-year-old have as much as he wanted and he wasn't excited about anything except the ice cream. \\n\\nThe Good:\\nfresh OJ \\nCucumber juice\\nMelon soup\\nRavioli\\nVeggies and ranch\\nCoconut ceviche\\nHot and sour soup\\n\\nService:\\n\\nReception: curt\\nWaitress:  fantastic!  Very friendly and attentive.  Chatted with our 4-year-old.\\nStation servers:  no smiles anywhere.  At the meat station, I had to wait through a lengthy argument between workers before being acknowledged.  \\n\\nAmbiance/decor:  \\nbeautiful.  They managed to prevent the disgusting cigarette smoke we had to wade through to get there from getting in.  The high chair was broken and the waitress said there were no others available.\"], dtype=object)"
      ]
     },
     "execution_count": 159,
     "metadata": {},
     "output_type": "execute_result"
    }
   ],
   "source": [
    "X_train[:3]"
   ]
  },
  {
   "cell_type": "markdown",
   "metadata": {},
   "source": [
    "### Get NLP representation of the documents"
   ]
  },
  {
   "cell_type": "code",
   "execution_count": 11,
   "metadata": {
    "collapsed": true
   },
   "outputs": [],
   "source": [
    "from sklearn.feature_extraction.text import TfidfVectorizer"
   ]
  },
  {
   "cell_type": "code",
   "execution_count": 12,
   "metadata": {
    "collapsed": true
   },
   "outputs": [],
   "source": [
    "vectorizer=TfidfVectorizer(stop_words='english', max_features=1000)\n",
    "train_top_matrix=vectorizer.fit_transform(X_train).toarray()\n",
    "\n"
   ]
  },
  {
   "cell_type": "code",
   "execution_count": 161,
   "metadata": {},
   "outputs": [
    {
     "data": {
      "text/plain": [
       "scipy.sparse.csr.csr_matrix"
      ]
     },
     "execution_count": 161,
     "metadata": {},
     "output_type": "execute_result"
    }
   ],
   "source": [
    "type(vectorizer.fit_transform(X_train))"
   ]
  },
  {
   "cell_type": "code",
   "execution_count": 13,
   "metadata": {
    "collapsed": true
   },
   "outputs": [],
   "source": [
    "# Get the vocab of your tfidf\n",
    "words_top=vectorizer.get_feature_names()"
   ]
  },
  {
   "cell_type": "code",
   "execution_count": 164,
   "metadata": {},
   "outputs": [
    {
     "data": {
      "text/plain": [
       "1000"
      ]
     },
     "execution_count": 164,
     "metadata": {},
     "output_type": "execute_result"
    }
   ],
   "source": [
    "len(words_top)"
   ]
  },
  {
   "cell_type": "code",
   "execution_count": 166,
   "metadata": {},
   "outputs": [
    {
     "data": {
      "text/plain": [
       "['wouldn',\n",
       " 'wow',\n",
       " 'wrong',\n",
       " 'wynn',\n",
       " 'year',\n",
       " 'years',\n",
       " 'yelp',\n",
       " 'yes',\n",
       " 'yum',\n",
       " 'yummy']"
      ]
     },
     "execution_count": 166,
     "metadata": {},
     "output_type": "execute_result"
    }
   ],
   "source": [
    "words_top[-10:]"
   ]
  },
  {
   "cell_type": "code",
   "execution_count": 14,
   "metadata": {
    "collapsed": true
   },
   "outputs": [],
   "source": [
    "\n",
    "test_top_matrix=vectorizer.transform(X_test).toarray()"
   ]
  },
  {
   "cell_type": "code",
   "execution_count": 15,
   "metadata": {
    "collapsed": true
   },
   "outputs": [],
   "source": [
    "\n",
    "doc_top_matrix=vectorizer.transform(documents_top)"
   ]
  },
  {
   "cell_type": "code",
   "execution_count": 16,
   "metadata": {},
   "outputs": [
    {
     "data": {
      "text/plain": [
       "(3465, 1000)"
      ]
     },
     "execution_count": 16,
     "metadata": {},
     "output_type": "execute_result"
    }
   ],
   "source": [
    "doc_top_matrix.shape"
   ]
  },
  {
   "cell_type": "markdown",
   "metadata": {},
   "source": [
    "### Cluster reviews with KMeans"
   ]
  },
  {
   "cell_type": "markdown",
   "metadata": {},
   "source": [
    "#### Fit k-means clustering on the training vectors and make predictions on all data"
   ]
  },
  {
   "cell_type": "code",
   "execution_count": 170,
   "metadata": {},
   "outputs": [
    {
     "data": {
      "text/plain": [
       "KMeans(algorithm='auto', copy_x=True, init='k-means++', max_iter=300,\n",
       "    n_clusters=5, n_init=10, n_jobs=1, precompute_distances='auto',\n",
       "    random_state=None, tol=0.0001, verbose=0)"
      ]
     },
     "execution_count": 170,
     "metadata": {},
     "output_type": "execute_result"
    }
   ],
   "source": [
    "kmeans_top = KMeans(n_clusters=5)\n",
    "\n",
    "kmeans_top.fit(train_top_matrix)"
   ]
  },
  {
   "cell_type": "code",
   "execution_count": 207,
   "metadata": {
    "collapsed": true
   },
   "outputs": [],
   "source": [
    "y_kmeans=kmeans_top.predict(train_top_matrix)"
   ]
  },
  {
   "cell_type": "code",
   "execution_count": 212,
   "metadata": {},
   "outputs": [
    {
     "data": {
      "text/plain": [
       "(2079,)"
      ]
     },
     "execution_count": 212,
     "metadata": {},
     "output_type": "execute_result"
    }
   ],
   "source": [
    "y_kmeans.shape"
   ]
  },
  {
   "cell_type": "markdown",
   "metadata": {},
   "source": [
    "#### Make predictions "
   ]
  },
  {
   "cell_type": "code",
   "execution_count": 172,
   "metadata": {
    "collapsed": true
   },
   "outputs": [],
   "source": [
    "assigned_top=kmeans_top.predict(doc_top_matrix)"
   ]
  },
  {
   "cell_type": "code",
   "execution_count": 174,
   "metadata": {},
   "outputs": [
    {
     "data": {
      "text/plain": [
       "(3465,)"
      ]
     },
     "execution_count": 174,
     "metadata": {},
     "output_type": "execute_result"
    }
   ],
   "source": [
    "assigned_top.shape"
   ]
  },
  {
   "cell_type": "markdown",
   "metadata": {},
   "source": [
    "#### Inspect the centroids"
   ]
  },
  {
   "cell_type": "code",
   "execution_count": 178,
   "metadata": {},
   "outputs": [
    {
     "name": "stdout",
     "output_type": "stream",
     "text": [
      "cluster centers:\n",
      "(5, 1000)\n"
     ]
    }
   ],
   "source": [
    "# To be implemented\n",
    "print (\"cluster centers:\")\n",
    "print (kmeans_top.cluster_centers_.shape)\n"
   ]
  },
  {
   "cell_type": "code",
   "execution_count": 206,
   "metadata": {},
   "outputs": [
    {
     "data": {
      "text/plain": [
       "(2079, 1000)"
      ]
     },
     "execution_count": 206,
     "metadata": {},
     "output_type": "execute_result"
    }
   ],
   "source": [
    "train_top_matrix.shape"
   ]
  },
  {
   "cell_type": "code",
   "execution_count": 204,
   "metadata": {},
   "outputs": [
    {
     "data": {
      "text/plain": [
       "(2079,)"
      ]
     },
     "execution_count": 204,
     "metadata": {},
     "output_type": "execute_result"
    }
   ],
   "source": [
    "train_top_matrix[:,0].shape"
   ]
  },
  {
   "cell_type": "code",
   "execution_count": 205,
   "metadata": {},
   "outputs": [
    {
     "data": {
      "text/plain": [
       "(2079,)"
      ]
     },
     "execution_count": 205,
     "metadata": {},
     "output_type": "execute_result"
    }
   ],
   "source": [
    "train_top_matrix[:,1].shape"
   ]
  },
  {
   "cell_type": "markdown",
   "metadata": {},
   "source": [
    "#### Find the top 10 features for each cluster."
   ]
  },
  {
   "cell_type": "markdown",
   "metadata": {},
   "source": [
    "\n",
    "* sort each centroid vector to find the top 10 features\n",
    "* go back to  vectorizer object to find out what words each ofthese corresponds to "
   ]
  },
  {
   "cell_type": "code",
   "execution_count": 188,
   "metadata": {
    "collapsed": true
   },
   "outputs": [],
   "source": [
    "n_feat=10\n",
    "top_centroids_top=kmeans_top.cluster_centers_.argsort()[:,-1:10:-1]"
   ]
  },
  {
   "cell_type": "code",
   "execution_count": 190,
   "metadata": {
    "collapsed": true
   },
   "outputs": [],
   "source": [
    "top_centroids1=kmeans_top.cluster_centers_.argsort()[:,-1:-n_feat:-1]"
   ]
  },
  {
   "cell_type": "code",
   "execution_count": 191,
   "metadata": {},
   "outputs": [
    {
     "data": {
      "text/plain": [
       "(5, 9)"
      ]
     },
     "execution_count": 191,
     "metadata": {},
     "output_type": "execute_result"
    }
   ],
   "source": [
    "top_centroids1.shape"
   ]
  },
  {
   "cell_type": "code",
   "execution_count": 193,
   "metadata": {},
   "outputs": [
    {
     "name": "stdout",
     "output_type": "stream",
     "text": [
      "top features for each cluster:\n",
      "0: booth,attentive,day,chip,coast,grab,hip,browns,greek \n",
      "1: chip,coast,fare,attentive,crew,italian,fremont,locations,decide \n",
      "2: attentive,apology,large,chip,attitude,flavors,cuts,amazing,ladies \n",
      "3: coke,groupon,chip,greet,attentive,brisket,added,ground,coast \n",
      "4: deep,leaves,desert,italian,chip,corn,attentive,cocktail,locations \n"
     ]
    }
   ],
   "source": [
    "print (\"top features for each cluster:\")\n",
    "\n",
    "for num, centroid in enumerate(top_centroids1):\n",
    "    print(\"%d: %s \" % (num, \",\". join(words[i] for i in centroid)))"
   ]
  },
  {
   "cell_type": "code",
   "execution_count": 196,
   "metadata": {},
   "outputs": [
    {
     "data": {
      "text/plain": [
       "2079"
      ]
     },
     "execution_count": 196,
     "metadata": {},
     "output_type": "execute_result"
    }
   ],
   "source": [
    "train_top_matrix.shape[0]"
   ]
  },
  {
   "cell_type": "code",
   "execution_count": null,
   "metadata": {
    "collapsed": true
   },
   "outputs": [],
   "source": [
    "X_train.sha"
   ]
  },
  {
   "cell_type": "code",
   "execution_count": 197,
   "metadata": {
    "collapsed": true
   },
   "outputs": [],
   "source": [
    "cluster_no=[]\n",
    "for i in range(5):\n",
    "    cluster_no.append(np.arange(0, doc_top_matrix.shape[0])[assigned_top==i].shape[0])"
   ]
  },
  {
   "cell_type": "code",
   "execution_count": 198,
   "metadata": {},
   "outputs": [
    {
     "data": {
      "text/plain": [
       "[936, 1068, 580, 382, 499]"
      ]
     },
     "execution_count": 198,
     "metadata": {},
     "output_type": "execute_result"
    }
   ],
   "source": [
    "cluster_no"
   ]
  },
  {
   "cell_type": "markdown",
   "metadata": {},
   "source": [
    "### now print out the rating and review of a random sample of the reviews assigned to each cluster to get a sense of the cluster"
   ]
  },
  {
   "cell_type": "code",
   "execution_count": 202,
   "metadata": {},
   "outputs": [
    {
     "name": "stdout",
     "output_type": "stream",
     "text": [
      "==========\n",
      "Cluster 0:\n",
      "         4 -  The husband took me here for my birthday and we both enjoyed the entertainment and food.  We loved everything about this place. The restaurant was very cozy and intimate. They even pour rose water over your hands so you can wash them at your table.  The experience itself was hands down amazing!\n",
      "\n",
      "Now you gotta come here HUNGRY cause they do offer a 6 course meal (yes 6 courses) and I must say, by the time we got to the main course we were FULL. Probably our fault since we loaded on the Morroccan bread ;) But that bread dipped in the shrimp scampi sauce...heaven!  I especially loved their hummus and babaganoush plate. If you're like me and love roasted eggplant, you'll love the babaganoush - it was packed with so much flavor! The beef kabobs were so yummy that I wished they offered more especially since I thought that was the main course, but I was wrong. The main course came after and honestly, we were already stuffed we just couldn't eat anymore. Which was okay since I wasn't too impressed with the chicken and couscous. The chicken was on the dry side and I think the only thing I enjoyed was the veggies on the plate. But if you love sweets, you'll love their dessert though.  It reminded me of a huge baklava puffed up. It was yummy!\n",
      "\n",
      "Now for the entertainment, the main reason the husband took me here for my birthday - the belly dancers. It was the first time for both of us and it was fun! There were two dancers that night. We did get up and dance with one of the dancers. It was a fun experience since she was teaching both of us how to belly dance :) She made the experience even better. \n",
      "\n",
      "All in all I would definitely recommend this place. From the service we received, to the entertainment and to the food.\n",
      "         1 -  Do not eat here.  The service is beyond slow.  Today it was very empty there were several servers talking among themselves.  I waited over 10 minutes before being approached.  The guy asked if I was ready.  I told him I had been waiting over 10 minutes and left $3.00 for the iced tea that the hostess got me.  Never again.\n",
      "==========\n",
      "Cluster 1:\n",
      "         5 -  We celebrated my sister's 40th Birthday here and she really enjoyed the entire dining experience with Delmonico's. She enjoyed the food along with her friends as well. They also gave her a complementary slice of cake.\n",
      "\n",
      " This was my second time coming here and the servers and waiters were awesome once again. I ordered the Bone-in Ribeye this time believe its 20oz and my wife ordered the Seared Sea Scallops & Herb Gnocchi. I would have to say the Bone In Ribeye is now my FAVORITE steak to get here now. I ordered it medium rare. It so juicy, tender and flavors galore all up in your mouth lol! I pretty much smashed the whole steak and it didn't have a chance. I think it's a must try item on their menu. Thank you Delmonico's Las Vegas for another great experience and making my sister's 40th birthday dinner a memorable one for her!\n",
      "         2 -  Came to Vegas for a night and wanted a quick bite to eat. My bf and I came across this place and decided to try it. \n",
      "\n",
      "[Service]\n",
      "Service wasn't terrible. They just weren't good at giving us what we ordered. The soda we received was only 3/4 filled up. I thought this was weird. We asked them why it was like that and they said that there are free refills so we can come back and ask for more. Maybe they were too lazy to fill it up more at the time. We got the Laguna half rice, half salad and made it a combo which includes miso soup and a drink. They didn't bring our miso soup out with our entree. They also made our entree incorrectly and put only salad in it. After I talked to them, they were nice about getting us everything we ordered. \n",
      "\n",
      "[Price]\n",
      "We ordered the Laguna which is about $13. To make it a combo, it is an additional $3.50. To make it a sushi bowl instead of a sushi burrito, it cost an additional $1. Is this necessary to charge? Our total after tax was over $18 for one combination. This was way too overpriced for what we got in return. The bowl tasted good, but nothing extraordinary to be charging that high of a price.\n",
      "\n",
      "[Ambience]\n",
      "Your typical to go place. None of the tables were wiped down so it felt a bit dirty. \n",
      "\n",
      "There are definitely better options in Vegas.\n",
      "==========\n",
      "Cluster 2:\n",
      "         4 -  This was the last restaurant I had yet to try here but the bartender at Lucky Bar pointed me right.  I came in and was sat at the bar and ordered a chicken pad Thai medium.  I also ordered a Kirin light but the server told me they were out.  He offered a large bottle of Sapporo instead and I took him up on that offer.  The pad Thai was really good, but not what I would call medium.  That was ok, though, since they had some condiments at the bar and the spicy sauce worked just fine to add in some heat.  I'll have to come back and give some of the other dishes a try and remember this the next time I want a noodle fix close to home.\n",
      "         3 -  Grade A for location:  beats driving down to the Chinatown area from NW.  Grade B- for food:  Shouyu ramen soup should be salty by definition but was mildly sweet for some treason.  Chicken ramen soup was tasty and good.  Chashu tasted bland, and its texture was a bit firm compared to what you get at, say, Monta.  Gyoza was just OK.  Grade D for seating comfort:  we sat in a booth and found the seat to be unusually uncomfortable.  Perhaps it's too deep.  Maybe the counter chairs are more comfortable.  We wanted to eat fast and get up.  Maybe it's intended to be somewhat uncomfortable to speed up turnover.  The restaurant was packed on a Tuesday night around 5:30.  I suppose that's a good sign.\n",
      "==========\n",
      "Cluster 3:\n",
      "         4 -  Quite a tasty burger for a quick service joint if you ask me.  Everything is made fresh so expect to wait a little bit for your food, but it's worth it.\n",
      "\n",
      "The burger is mighty good, albeit on the thin side.  Compared to say Five Guys, who also makes there burgers fresh, you might feel a little jipped, however what it lacks in substance is made up for in taste.  \n",
      "\n",
      "This location seemed a little slower than others in the order taking process.  Only one person taking orders both times I was there, but doesn't deter from the tasty burger, just slows everything down in a town where nothing should be slow..\n",
      "         4 -  Great solid sushi in Vegas.  Oysters were fresh  and sashimi was fabulous.  Prices are very comparable to prices in LA.  However, was disappointed that they don't offers combo during holidays weekend.  Was looking forward to try their 12 course combo.. now give me another reason to come back.\n",
      "==========\n",
      "Cluster 4:\n",
      "         5 -  Really good!!! Great flavor! Love the chicken and fish!!! The owner is really nice and have good taste for arts. I like the paintings on the wall lol\n",
      "         4 -  Enjoyed a late dinner here and really enjoyed everything.  The house fried rice with pork is so good you can't stop eating it.  The chickens wings could have been spicier but were tasty.  I definitely have more things to try on the menu so will be back. Only downside is it's a small space so you may have to wait.\n"
     ]
    }
   ],
   "source": [
    "for i in range(kmeans_top.n_clusters):\n",
    "    cluster=np.arange(0,doc_top_matrix.shape[0])[assigned_top==i]\n",
    "    sample_reviews=np.random.choice(cluster,2,replace=False)\n",
    "    print(\"=\"*10)\n",
    "    print(\"Cluster %d:\" % i)\n",
    "    for review_index in sample_reviews:\n",
    "        print (\"         %s - \" % df.loc[review_index]['stars'], \"%s\" % df.loc[review_index]['text'])\n",
    "    print"
   ]
  },
  {
   "cell_type": "markdown",
   "metadata": {},
   "source": [
    "## 3. Use PCA to reduce dimensionality"
   ]
  },
  {
   "cell_type": "markdown",
   "metadata": {},
   "source": [
    "### Stardardize features\n",
    "Your X_train and X_test"
   ]
  },
  {
   "cell_type": "code",
   "execution_count": 38,
   "metadata": {},
   "outputs": [
    {
     "data": {
      "text/plain": [
       "DescribeResult(nobs=2079, minmax=(0.0, 0.88570899602307451), mean=0.0095386244281801379, variance=0.0018307589929981458, skewness=8.186743127856888, kurtosis=111.34845760725852)"
      ]
     },
     "execution_count": 38,
     "metadata": {},
     "output_type": "execute_result"
    }
   ],
   "source": [
    "from scipy import stats\n"
   ]
  },
  {
   "cell_type": "code",
   "execution_count": 41,
   "metadata": {},
   "outputs": [
    {
     "data": {
      "text/plain": [
       "(2079, 1000)"
      ]
     },
     "execution_count": 41,
     "metadata": {},
     "output_type": "execute_result"
    }
   ],
   "source": [
    "train_top_matrix.shape"
   ]
  },
  {
   "cell_type": "code",
   "execution_count": 33,
   "metadata": {
    "collapsed": true
   },
   "outputs": [],
   "source": [
    "from sklearn.preprocessing import StandardScaler\n",
    "\n",
    "scaler=StandardScaler()\n",
    "X_train_scaled=scaler.fit_transform(train_top_matrix)\n",
    "X_test_scaled=scaler.transform(test_top_matrix)\n",
    "\n"
   ]
  },
  {
   "cell_type": "code",
   "execution_count": 39,
   "metadata": {},
   "outputs": [
    {
     "data": {
      "text/plain": [
       "numpy.ndarray"
      ]
     },
     "execution_count": 39,
     "metadata": {},
     "output_type": "execute_result"
    }
   ],
   "source": [
    "type(X_train_scaled)"
   ]
  },
  {
   "cell_type": "code",
   "execution_count": 42,
   "metadata": {},
   "outputs": [
    {
     "data": {
      "text/plain": [
       "DescribeResult(nobs=2079, minmax=(-0.22298447878256494, 20.482239877022661), mean=-4.6139138685720794e-17, variance=1.0004812319538137, skewness=8.18674312785689, kurtosis=111.34845760725855)"
      ]
     },
     "execution_count": 42,
     "metadata": {},
     "output_type": "execute_result"
    }
   ],
   "source": [
    "stats.describe(X_train_scaled[:,1])"
   ]
  },
  {
   "cell_type": "code",
   "execution_count": 40,
   "metadata": {},
   "outputs": [
    {
     "data": {
      "text/plain": [
       "(2079, 1000)"
      ]
     },
     "execution_count": 40,
     "metadata": {},
     "output_type": "execute_result"
    }
   ],
   "source": [
    "X_train_scaled.shape"
   ]
  },
  {
   "cell_type": "markdown",
   "metadata": {},
   "source": [
    "### Use PCA to transform data (train and test) and get princial components"
   ]
  },
  {
   "cell_type": "code",
   "execution_count": 43,
   "metadata": {
    "collapsed": true
   },
   "outputs": [],
   "source": [
    "from sklearn.decomposition import PCA\n",
    "\n",
    "# Let's pick a n_components\n",
    "n_components = 50\n",
    "\n",
    "pca=PCA(n_components=n_components)\n",
    "X_train_pca=pca.fit_transform(X_train_scaled)\n",
    "X_test_pca = pca.transform(X_test_scaled)\n"
   ]
  },
  {
   "cell_type": "code",
   "execution_count": 44,
   "metadata": {},
   "outputs": [
    {
     "data": {
      "text/plain": [
       "(2079, 50)"
      ]
     },
     "execution_count": 44,
     "metadata": {},
     "output_type": "execute_result"
    }
   ],
   "source": [
    "X_train_pca.shape   #now dimension decreased"
   ]
  },
  {
   "cell_type": "code",
   "execution_count": 45,
   "metadata": {},
   "outputs": [
    {
     "data": {
      "text/plain": [
       "(1386, 50)"
      ]
     },
     "execution_count": 45,
     "metadata": {},
     "output_type": "execute_result"
    }
   ],
   "source": [
    "X_test_pca.shape"
   ]
  },
  {
   "cell_type": "code",
   "execution_count": 48,
   "metadata": {},
   "outputs": [
    {
     "data": {
      "text/plain": [
       "array([ 8.59700134,  5.78056238,  4.64706691,  4.20859929,  3.89036813,\n",
       "        3.73327477,  3.52418338,  3.39171692,  3.34774061,  3.28399906,\n",
       "        3.16455517,  3.13471438,  3.07705202,  3.02153295,  2.98418179,\n",
       "        2.93629202,  2.90619051,  2.85082863,  2.84018579,  2.81059641,\n",
       "        2.79105212,  2.75692165,  2.71276081,  2.69267476,  2.6798773 ,\n",
       "        2.65578781,  2.63249111,  2.61885412,  2.61167083,  2.59769795,\n",
       "        2.56974726,  2.55980913,  2.54006682,  2.51826653,  2.50991904,\n",
       "        2.50357465,  2.49019086,  2.45204015,  2.43499975,  2.42436873,\n",
       "        2.3915316 ,  2.37522538,  2.37229085,  2.36425077,  2.35614017,\n",
       "        2.32529147,  2.3190112 ,  2.30930323,  2.30125589,  2.29496438])"
      ]
     },
     "execution_count": 48,
     "metadata": {},
     "output_type": "execute_result"
    }
   ],
   "source": [
    "pca.explained_variance_"
   ]
  },
  {
   "cell_type": "code",
   "execution_count": 49,
   "metadata": {},
   "outputs": [
    {
     "data": {
      "text/plain": [
       "array([ 0.00859287,  0.00577778,  0.00464483,  0.00420657,  0.0038885 ,\n",
       "        0.00373148,  0.00352249,  0.00339009,  0.00334613,  0.00328242])"
      ]
     },
     "execution_count": 49,
     "metadata": {},
     "output_type": "execute_result"
    }
   ],
   "source": [
    "pca.explained_variance_ratio_[:10]"
   ]
  },
  {
   "cell_type": "markdown",
   "metadata": {},
   "source": [
    "### Viz: plot proportion of variance explained with top principal components\n",
    "\n",
    "For clear display, you may start with plotting <=20 principal components"
   ]
  },
  {
   "cell_type": "code",
   "execution_count": 52,
   "metadata": {},
   "outputs": [
    {
     "data": {
      "text/plain": [
       "Text(0,0.5,'Variance Explained')"
      ]
     },
     "execution_count": 52,
     "metadata": {},
     "output_type": "execute_result"
    },
    {
     "data": {
      "image/png": "[encoded data removed]",
      "text/plain": [
       "<matplotlib.figure.Figure at 0x7f33b7e8a518>"
      ]
     },
     "metadata": {},
     "output_type": "display_data"
    }
   ],
   "source": [
    "n_col_to_display=20\n",
    "\n",
    "pca_range=np.arange(n_col_to_display)+1\n",
    "pca_names=['PCA_%s' % i for i in pca_range]\n",
    "\n",
    "plt.figure(figsize=(10,10))\n",
    "plt.bar(pca_range,pca.explained_variance_[:n_col_to_display],align='center')\n",
    "xticks=plt.xticks(pca_range,pca_names, rotation=90)\n",
    "plt.ylabel('Variance Explained')"
   ]
  },
  {
   "cell_type": "code",
   "execution_count": null,
   "metadata": {
    "collapsed": true
   },
   "outputs": [],
   "source": [
    "#usually use elbow point to pick the number of pca components"
   ]
  },
  {
   "cell_type": "code",
   "execution_count": null,
   "metadata": {
    "collapsed": true
   },
   "outputs": [],
   "source": [
    "# but as this is a NLP problem, if pick only top ones, maybe too many repetitive words\n",
    "#better use all components"
   ]
  },
  {
   "cell_type": "markdown",
   "metadata": {},
   "source": [
    "## Classifying positive/negative review with PCA preprocessing"
   ]
  },
  {
   "cell_type": "markdown",
   "metadata": {},
   "source": [
    "### Logistic Regression Classifier\n",
    "#### Use standardized tf-idf vectors as features"
   ]
  },
  {
   "cell_type": "code",
   "execution_count": 53,
   "metadata": {},
   "outputs": [
    {
     "data": {
      "text/plain": [
       "LogisticRegression(C=1.0, class_weight=None, dual=False, fit_intercept=True,\n",
       "          intercept_scaling=1, max_iter=100, multi_class='ovr', n_jobs=1,\n",
       "          penalty='l2', random_state=None, solver='liblinear', tol=0.0001,\n",
       "          verbose=0, warm_start=False)"
      ]
     },
     "execution_count": 53,
     "metadata": {},
     "output_type": "execute_result"
    }
   ],
   "source": [
    "# Build a Logistic Regression Classifier, train with standardized tf-idf vectors\n",
    "\n",
    "from sklearn.linear_model import LogisticRegression\n",
    "\n",
    "clt_lr=LogisticRegression()\n",
    "clt_lr.fit(X_train_scaled,y_train)"
   ]
  },
  {
   "cell_type": "code",
   "execution_count": 54,
   "metadata": {},
   "outputs": [
    {
     "data": {
      "text/plain": [
       "0.99903799903799906"
      ]
     },
     "execution_count": 54,
     "metadata": {},
     "output_type": "execute_result"
    }
   ],
   "source": [
    "clt_lr.score(X_train_scaled,y_train)"
   ]
  },
  {
   "cell_type": "code",
   "execution_count": 55,
   "metadata": {},
   "outputs": [
    {
     "data": {
      "text/plain": [
       "0.72294372294372289"
      ]
     },
     "execution_count": 55,
     "metadata": {},
     "output_type": "execute_result"
    }
   ],
   "source": [
    "clt_lr.score(X_test_scaled,y_test)"
   ]
  },
  {
   "cell_type": "markdown",
   "metadata": {
    "collapsed": true
   },
   "source": [
    "* training score is  much higher than test score, it is overfitting\n",
    "*  here used 1000 features, original data"
   ]
  },
  {
   "cell_type": "markdown",
   "metadata": {},
   "source": [
    "#### Use (Stardardized + PCA) tf-idf vectors as features"
   ]
  },
  {
   "cell_type": "code",
   "execution_count": 56,
   "metadata": {},
   "outputs": [
    {
     "data": {
      "text/plain": [
       "LogisticRegression(C=1.0, class_weight=None, dual=False, fit_intercept=True,\n",
       "          intercept_scaling=1, max_iter=100, multi_class='ovr', n_jobs=1,\n",
       "          penalty='l2', random_state=None, solver='liblinear', tol=0.0001,\n",
       "          verbose=0, warm_start=False)"
      ]
     },
     "execution_count": 56,
     "metadata": {},
     "output_type": "execute_result"
    }
   ],
   "source": [
    "# Build a Logistic Regression Classifier, train with PCA tranformed X\n",
    "\n",
    "from sklearn.linear_model import LogisticRegression\n",
    "clt_lr_pca=LogisticRegression()\n",
    "clt_lr_pca.fit(X_train_pca,y_train)"
   ]
  },
  {
   "cell_type": "code",
   "execution_count": 57,
   "metadata": {},
   "outputs": [
    {
     "data": {
      "text/plain": [
       "0.79797979797979801"
      ]
     },
     "execution_count": 57,
     "metadata": {},
     "output_type": "execute_result"
    }
   ],
   "source": [
    "# Get score for training set\n",
    "clt_lr_pca.score(X_train_pca,y_train)"
   ]
  },
  {
   "cell_type": "code",
   "execution_count": 59,
   "metadata": {},
   "outputs": [
    {
     "data": {
      "text/plain": [
       "0.77561327561327564"
      ]
     },
     "execution_count": 59,
     "metadata": {},
     "output_type": "execute_result"
    }
   ],
   "source": [
    "# Get score for test set, REMEMBER to use PCA-transformed X!\n",
    "clt_lr_pca.score(X_test_pca,y_test)"
   ]
  },
  {
   "cell_type": "markdown",
   "metadata": {
    "collapsed": true
   },
   "source": [
    "* training 0.79, test: 0.77 now overfitting is gone, feature dimension decreased from 1000 to 50\n",
    "* I think PCA helps to eliminate some colinearity which helps with overfitting problem\n",
    "* but overfitting is not the only reason cause training score different from test score\n",
    "* the difference on the socre could also highly depends on the similarity between train and test datast"
   ]
  },
  {
   "cell_type": "markdown",
   "metadata": {},
   "source": [
    "#### Plot the coefficients against principal components\n"
   ]
  },
  {
   "cell_type": "code",
   "execution_count": 60,
   "metadata": {},
   "outputs": [
    {
     "data": {
      "text/plain": [
       "50"
      ]
     },
     "execution_count": 60,
     "metadata": {},
     "output_type": "execute_result"
    }
   ],
   "source": [
    "pca.n_components_"
   ]
  },
  {
   "cell_type": "code",
   "execution_count": 62,
   "metadata": {},
   "outputs": [
    {
     "data": {
      "text/html": [
       "<div>\n",
       "<style>\n",
       "    .dataframe thead tr:only-child th {\n",
       "        text-align: right;\n",
       "    }\n",
       "\n",
       "    .dataframe thead th {\n",
       "        text-align: left;\n",
       "    }\n",
       "\n",
       "    .dataframe tbody tr th {\n",
       "        vertical-align: top;\n",
       "    }\n",
       "</style>\n",
       "<table border=\"1\" class=\"dataframe\">\n",
       "  <thead>\n",
       "    <tr style=\"text-align: right;\">\n",
       "      <th></th>\n",
       "      <th>PCs</th>\n",
       "      <th>coeff</th>\n",
       "    </tr>\n",
       "  </thead>\n",
       "  <tbody>\n",
       "    <tr>\n",
       "      <th>2</th>\n",
       "      <td>PC_3</td>\n",
       "      <td>0.565236</td>\n",
       "    </tr>\n",
       "    <tr>\n",
       "      <th>3</th>\n",
       "      <td>PC_4</td>\n",
       "      <td>0.301928</td>\n",
       "    </tr>\n",
       "    <tr>\n",
       "      <th>9</th>\n",
       "      <td>PC_10</td>\n",
       "      <td>0.236414</td>\n",
       "    </tr>\n",
       "    <tr>\n",
       "      <th>11</th>\n",
       "      <td>PC_12</td>\n",
       "      <td>0.217694</td>\n",
       "    </tr>\n",
       "    <tr>\n",
       "      <th>15</th>\n",
       "      <td>PC_16</td>\n",
       "      <td>0.178839</td>\n",
       "    </tr>\n",
       "    <tr>\n",
       "      <th>5</th>\n",
       "      <td>PC_6</td>\n",
       "      <td>0.154962</td>\n",
       "    </tr>\n",
       "    <tr>\n",
       "      <th>12</th>\n",
       "      <td>PC_13</td>\n",
       "      <td>0.127114</td>\n",
       "    </tr>\n",
       "    <tr>\n",
       "      <th>18</th>\n",
       "      <td>PC_19</td>\n",
       "      <td>0.123336</td>\n",
       "    </tr>\n",
       "    <tr>\n",
       "      <th>23</th>\n",
       "      <td>PC_24</td>\n",
       "      <td>0.078637</td>\n",
       "    </tr>\n",
       "    <tr>\n",
       "      <th>35</th>\n",
       "      <td>PC_36</td>\n",
       "      <td>0.072205</td>\n",
       "    </tr>\n",
       "    <tr>\n",
       "      <th>28</th>\n",
       "      <td>PC_29</td>\n",
       "      <td>0.072010</td>\n",
       "    </tr>\n",
       "    <tr>\n",
       "      <th>24</th>\n",
       "      <td>PC_25</td>\n",
       "      <td>0.068985</td>\n",
       "    </tr>\n",
       "    <tr>\n",
       "      <th>34</th>\n",
       "      <td>PC_35</td>\n",
       "      <td>0.068650</td>\n",
       "    </tr>\n",
       "    <tr>\n",
       "      <th>38</th>\n",
       "      <td>PC_39</td>\n",
       "      <td>0.058133</td>\n",
       "    </tr>\n",
       "    <tr>\n",
       "      <th>42</th>\n",
       "      <td>PC_43</td>\n",
       "      <td>0.056713</td>\n",
       "    </tr>\n",
       "    <tr>\n",
       "      <th>33</th>\n",
       "      <td>PC_34</td>\n",
       "      <td>0.052762</td>\n",
       "    </tr>\n",
       "    <tr>\n",
       "      <th>19</th>\n",
       "      <td>PC_20</td>\n",
       "      <td>0.046647</td>\n",
       "    </tr>\n",
       "    <tr>\n",
       "      <th>20</th>\n",
       "      <td>PC_21</td>\n",
       "      <td>0.046401</td>\n",
       "    </tr>\n",
       "    <tr>\n",
       "      <th>37</th>\n",
       "      <td>PC_38</td>\n",
       "      <td>0.043017</td>\n",
       "    </tr>\n",
       "    <tr>\n",
       "      <th>32</th>\n",
       "      <td>PC_33</td>\n",
       "      <td>0.033027</td>\n",
       "    </tr>\n",
       "    <tr>\n",
       "      <th>47</th>\n",
       "      <td>PC_48</td>\n",
       "      <td>0.028138</td>\n",
       "    </tr>\n",
       "    <tr>\n",
       "      <th>13</th>\n",
       "      <td>PC_14</td>\n",
       "      <td>0.026768</td>\n",
       "    </tr>\n",
       "    <tr>\n",
       "      <th>21</th>\n",
       "      <td>PC_22</td>\n",
       "      <td>0.017593</td>\n",
       "    </tr>\n",
       "    <tr>\n",
       "      <th>39</th>\n",
       "      <td>PC_40</td>\n",
       "      <td>0.014757</td>\n",
       "    </tr>\n",
       "    <tr>\n",
       "      <th>16</th>\n",
       "      <td>PC_17</td>\n",
       "      <td>0.013242</td>\n",
       "    </tr>\n",
       "    <tr>\n",
       "      <th>17</th>\n",
       "      <td>PC_18</td>\n",
       "      <td>0.007081</td>\n",
       "    </tr>\n",
       "    <tr>\n",
       "      <th>49</th>\n",
       "      <td>PC_50</td>\n",
       "      <td>0.003886</td>\n",
       "    </tr>\n",
       "    <tr>\n",
       "      <th>43</th>\n",
       "      <td>PC_44</td>\n",
       "      <td>0.001702</td>\n",
       "    </tr>\n",
       "    <tr>\n",
       "      <th>40</th>\n",
       "      <td>PC_41</td>\n",
       "      <td>0.000546</td>\n",
       "    </tr>\n",
       "    <tr>\n",
       "      <th>29</th>\n",
       "      <td>PC_30</td>\n",
       "      <td>-0.003512</td>\n",
       "    </tr>\n",
       "    <tr>\n",
       "      <th>46</th>\n",
       "      <td>PC_47</td>\n",
       "      <td>-0.005949</td>\n",
       "    </tr>\n",
       "    <tr>\n",
       "      <th>27</th>\n",
       "      <td>PC_28</td>\n",
       "      <td>-0.007650</td>\n",
       "    </tr>\n",
       "    <tr>\n",
       "      <th>48</th>\n",
       "      <td>PC_49</td>\n",
       "      <td>-0.011326</td>\n",
       "    </tr>\n",
       "    <tr>\n",
       "      <th>41</th>\n",
       "      <td>PC_42</td>\n",
       "      <td>-0.011901</td>\n",
       "    </tr>\n",
       "    <tr>\n",
       "      <th>31</th>\n",
       "      <td>PC_32</td>\n",
       "      <td>-0.015547</td>\n",
       "    </tr>\n",
       "    <tr>\n",
       "      <th>36</th>\n",
       "      <td>PC_37</td>\n",
       "      <td>-0.022725</td>\n",
       "    </tr>\n",
       "    <tr>\n",
       "      <th>10</th>\n",
       "      <td>PC_11</td>\n",
       "      <td>-0.027494</td>\n",
       "    </tr>\n",
       "    <tr>\n",
       "      <th>26</th>\n",
       "      <td>PC_27</td>\n",
       "      <td>-0.038565</td>\n",
       "    </tr>\n",
       "    <tr>\n",
       "      <th>14</th>\n",
       "      <td>PC_15</td>\n",
       "      <td>-0.043203</td>\n",
       "    </tr>\n",
       "    <tr>\n",
       "      <th>44</th>\n",
       "      <td>PC_45</td>\n",
       "      <td>-0.047276</td>\n",
       "    </tr>\n",
       "    <tr>\n",
       "      <th>45</th>\n",
       "      <td>PC_46</td>\n",
       "      <td>-0.071376</td>\n",
       "    </tr>\n",
       "    <tr>\n",
       "      <th>25</th>\n",
       "      <td>PC_26</td>\n",
       "      <td>-0.093710</td>\n",
       "    </tr>\n",
       "    <tr>\n",
       "      <th>30</th>\n",
       "      <td>PC_31</td>\n",
       "      <td>-0.111194</td>\n",
       "    </tr>\n",
       "    <tr>\n",
       "      <th>22</th>\n",
       "      <td>PC_23</td>\n",
       "      <td>-0.120180</td>\n",
       "    </tr>\n",
       "    <tr>\n",
       "      <th>0</th>\n",
       "      <td>PC_1</td>\n",
       "      <td>-0.124791</td>\n",
       "    </tr>\n",
       "    <tr>\n",
       "      <th>6</th>\n",
       "      <td>PC_7</td>\n",
       "      <td>-0.135278</td>\n",
       "    </tr>\n",
       "    <tr>\n",
       "      <th>7</th>\n",
       "      <td>PC_8</td>\n",
       "      <td>-0.187149</td>\n",
       "    </tr>\n",
       "    <tr>\n",
       "      <th>8</th>\n",
       "      <td>PC_9</td>\n",
       "      <td>-0.246416</td>\n",
       "    </tr>\n",
       "    <tr>\n",
       "      <th>4</th>\n",
       "      <td>PC_5</td>\n",
       "      <td>-0.269977</td>\n",
       "    </tr>\n",
       "    <tr>\n",
       "      <th>1</th>\n",
       "      <td>PC_2</td>\n",
       "      <td>-0.473732</td>\n",
       "    </tr>\n",
       "  </tbody>\n",
       "</table>\n",
       "</div>"
      ],
      "text/plain": [
       "      PCs     coeff\n",
       "2    PC_3  0.565236\n",
       "3    PC_4  0.301928\n",
       "9   PC_10  0.236414\n",
       "11  PC_12  0.217694\n",
       "15  PC_16  0.178839\n",
       "5    PC_6  0.154962\n",
       "12  PC_13  0.127114\n",
       "18  PC_19  0.123336\n",
       "23  PC_24  0.078637\n",
       "35  PC_36  0.072205\n",
       "28  PC_29  0.072010\n",
       "24  PC_25  0.068985\n",
       "34  PC_35  0.068650\n",
       "38  PC_39  0.058133\n",
       "42  PC_43  0.056713\n",
       "33  PC_34  0.052762\n",
       "19  PC_20  0.046647\n",
       "20  PC_21  0.046401\n",
       "37  PC_38  0.043017\n",
       "32  PC_33  0.033027\n",
       "47  PC_48  0.028138\n",
       "13  PC_14  0.026768\n",
       "21  PC_22  0.017593\n",
       "39  PC_40  0.014757\n",
       "16  PC_17  0.013242\n",
       "17  PC_18  0.007081\n",
       "49  PC_50  0.003886\n",
       "43  PC_44  0.001702\n",
       "40  PC_41  0.000546\n",
       "29  PC_30 -0.003512\n",
       "46  PC_47 -0.005949\n",
       "27  PC_28 -0.007650\n",
       "48  PC_49 -0.011326\n",
       "41  PC_42 -0.011901\n",
       "31  PC_32 -0.015547\n",
       "36  PC_37 -0.022725\n",
       "10  PC_11 -0.027494\n",
       "26  PC_27 -0.038565\n",
       "14  PC_15 -0.043203\n",
       "44  PC_45 -0.047276\n",
       "45  PC_46 -0.071376\n",
       "25  PC_26 -0.093710\n",
       "30  PC_31 -0.111194\n",
       "22  PC_23 -0.120180\n",
       "0    PC_1 -0.124791\n",
       "6    PC_7 -0.135278\n",
       "7    PC_8 -0.187149\n",
       "8    PC_9 -0.246416\n",
       "4    PC_5 -0.269977\n",
       "1    PC_2 -0.473732"
      ]
     },
     "execution_count": 62,
     "metadata": {},
     "output_type": "execute_result"
    }
   ],
   "source": [
    "# To be implemented\n",
    "pca_range=np.arange(pca.n_components_)+1\n",
    "pca_names=['PC_%s' % i for i in pca_range]\n",
    "\n",
    "df_coeffs=pd.DataFrame(list(zip(pca_names, clt_lr_pca.coef_.flatten()))).sort_values(by=[1], ascending=False)\n",
    "df_coeffs.columns=['PCs','coeff']\n",
    "df_coeffs"
   ]
  },
  {
   "cell_type": "code",
   "execution_count": 65,
   "metadata": {},
   "outputs": [
    {
     "data": {
      "image/png": "[encoded data removed]",
      "text/plain": [
       "<matplotlib.figure.Figure at 0x7f33aef2a160>"
      ]
     },
     "metadata": {},
     "output_type": "display_data"
    }
   ],
   "source": [
    "ax=df_coeffs.plot.barh(figsize=(10,10))\n",
    "t=np.arange(pca.n_components_)\n",
    "ax.set_yticks(t)\n",
    "#ax.set_yticks(df_coeffs['PCs'])\n",
    "plt.show()\n"
   ]
  },
  {
   "cell_type": "markdown",
   "metadata": {},
   "source": [
    "### Random Forest Classifier\n",
    "#### Use standardized tf-idf vectors as features"
   ]
  },
  {
   "cell_type": "code",
   "execution_count": 66,
   "metadata": {},
   "outputs": [
    {
     "data": {
      "text/plain": [
       "RandomForestClassifier(bootstrap=True, class_weight=None, criterion='gini',\n",
       "            max_depth=None, max_features='auto', max_leaf_nodes=None,\n",
       "            min_impurity_decrease=0.0, min_impurity_split=None,\n",
       "            min_samples_leaf=1, min_samples_split=3,\n",
       "            min_weight_fraction_leaf=0.0, n_estimators=20, n_jobs=-1,\n",
       "            oob_score=False, random_state=2, verbose=0, warm_start=False)"
      ]
     },
     "execution_count": 66,
     "metadata": {},
     "output_type": "execute_result"
    }
   ],
   "source": [
    "# Build a Random Forest Classifier\n",
    "\n",
    "from sklearn.ensemble import RandomForestClassifier\n",
    "\n",
    "clt_rf=RandomForestClassifier(n_estimators=20, min_samples_split=3, n_jobs=-1, random_state=2)\n",
    "clt_rf.fit(X_train_scaled,y_train)\n"
   ]
  },
  {
   "cell_type": "code",
   "execution_count": 67,
   "metadata": {},
   "outputs": [
    {
     "data": {
      "text/plain": [
       "0.99615199615199612"
      ]
     },
     "execution_count": 67,
     "metadata": {},
     "output_type": "execute_result"
    }
   ],
   "source": [
    "# Get score for training set\n",
    "clt_rf.score(X_train_scaled,y_train)"
   ]
  },
  {
   "cell_type": "code",
   "execution_count": 68,
   "metadata": {
    "scrolled": true
   },
   "outputs": [
    {
     "data": {
      "text/plain": [
       "0.74963924963924966"
      ]
     },
     "execution_count": 68,
     "metadata": {},
     "output_type": "execute_result"
    }
   ],
   "source": [
    "# Get score for test set\n",
    "clt_rf.score(X_test_scaled,y_test)"
   ]
  },
  {
   "cell_type": "code",
   "execution_count": null,
   "metadata": {
    "collapsed": true
   },
   "outputs": [],
   "source": [
    "#training score> testing  logistic regression more prone to overfitting due to multicolinearity"
   ]
  },
  {
   "cell_type": "markdown",
   "metadata": {},
   "source": [
    "#### Use (Stardardized + PCA) tf-idf vectors as features"
   ]
  },
  {
   "cell_type": "code",
   "execution_count": 69,
   "metadata": {},
   "outputs": [
    {
     "data": {
      "text/plain": [
       "RandomForestClassifier(bootstrap=True, class_weight=None, criterion='gini',\n",
       "            max_depth=None, max_features='auto', max_leaf_nodes=None,\n",
       "            min_impurity_decrease=0.0, min_impurity_split=None,\n",
       "            min_samples_leaf=1, min_samples_split=3,\n",
       "            min_weight_fraction_leaf=0.0, n_estimators=20, n_jobs=-1,\n",
       "            oob_score=False, random_state=2, verbose=0, warm_start=False)"
      ]
     },
     "execution_count": 69,
     "metadata": {},
     "output_type": "execute_result"
    }
   ],
   "source": [
    "# Build a Random Forest Classifier\n",
    "\n",
    "from sklearn.ensemble import RandomForestClassifier\n",
    "clt_rf=RandomForestClassifier(n_estimators=20, min_samples_split=3, n_jobs=-1, random_state=2)\n",
    "clt_rf.fit(X_train_pca,y_train)\n"
   ]
  },
  {
   "cell_type": "code",
   "execution_count": 70,
   "metadata": {},
   "outputs": [
    {
     "data": {
      "text/plain": [
       "0.99663299663299665"
      ]
     },
     "execution_count": 70,
     "metadata": {},
     "output_type": "execute_result"
    }
   ],
   "source": [
    "# Get score for training set\n",
    "clt_rf.score(X_train_pca,y_train)"
   ]
  },
  {
   "cell_type": "code",
   "execution_count": 71,
   "metadata": {},
   "outputs": [
    {
     "data": {
      "text/plain": [
       "0.72510822510822515"
      ]
     },
     "execution_count": 71,
     "metadata": {},
     "output_type": "execute_result"
    }
   ],
   "source": [
    "clt_rf.score(X_test_pca,y_test)"
   ]
  },
  {
   "cell_type": "code",
   "execution_count": null,
   "metadata": {
    "collapsed": true
   },
   "outputs": [],
   "source": [
    "# now traing and testing score should not be that different"
   ]
  },
  {
   "cell_type": "markdown",
   "metadata": {},
   "source": [
    "## Cluster restaurants from their category information\n"
   ]
  },
  {
   "cell_type": "code",
   "execution_count": 73,
   "metadata": {},
   "outputs": [
    {
     "data": {
      "text/plain": [
       "array(['business_id', 'name', 'categories', 'avg_stars', 'cool', 'date',\n",
       "       'funny', 'review_id', 'stars', 'text', 'useful', 'user_id'], dtype=object)"
      ]
     },
     "execution_count": 73,
     "metadata": {},
     "output_type": "execute_result"
    }
   ],
   "source": [
    "df.columns.values"
   ]
  },
  {
   "cell_type": "code",
   "execution_count": 8,
   "metadata": {},
   "outputs": [
    {
     "data": {
      "text/plain": [
       "(473382, 13)"
      ]
     },
     "execution_count": 8,
     "metadata": {},
     "output_type": "execute_result"
    }
   ],
   "source": [
    "df.shape"
   ]
  },
  {
   "cell_type": "code",
   "execution_count": 9,
   "metadata": {},
   "outputs": [
    {
     "data": {
      "text/plain": [
       "0    Steakhouses, Restaurants, Cajun/Creole\n",
       "1    Steakhouses, Restaurants, Cajun/Creole\n",
       "2    Steakhouses, Restaurants, Cajun/Creole\n",
       "Name: categories, dtype: object"
      ]
     },
     "execution_count": 9,
     "metadata": {},
     "output_type": "execute_result"
    }
   ],
   "source": [
    "df['categories'][:3]"
   ]
  },
  {
   "cell_type": "code",
   "execution_count": 14,
   "metadata": {},
   "outputs": [
    {
     "data": {
      "text/plain": [
       "(3321,)"
      ]
     },
     "execution_count": 14,
     "metadata": {},
     "output_type": "execute_result"
    }
   ],
   "source": [
    "df['categories'].unique().shape"
   ]
  },
  {
   "cell_type": "code",
   "execution_count": 10,
   "metadata": {
    "collapsed": true
   },
   "outputs": [],
   "source": [
    "documents=df['categories'].values"
   ]
  },
  {
   "cell_type": "code",
   "execution_count": 12,
   "metadata": {},
   "outputs": [
    {
     "data": {
      "text/plain": [
       "array([ 'Food, Acai Bowls, Restaurants, Coffee & Tea, Tea Rooms, Creperies, Juice Bars & Smoothies, Desserts',\n",
       "       'Food, Acai Bowls, Restaurants, Coffee & Tea, Tea Rooms, Creperies, Juice Bars & Smoothies, Desserts',\n",
       "       'Food, Acai Bowls, Restaurants, Coffee & Tea, Tea Rooms, Creperies, Juice Bars & Smoothies, Desserts'], dtype=object)"
      ]
     },
     "execution_count": 12,
     "metadata": {},
     "output_type": "execute_result"
    }
   ],
   "source": [
    "documents[-3:]"
   ]
  },
  {
   "cell_type": "code",
   "execution_count": 15,
   "metadata": {
    "collapsed": true
   },
   "outputs": [],
   "source": [
    "X_train, X_test, y_train, y_test = train_test_split(\n",
    "    documents, target, test_size=0.40, random_state=2)"
   ]
  },
  {
   "cell_type": "code",
   "execution_count": 16,
   "metadata": {
    "collapsed": true
   },
   "outputs": [],
   "source": [
    "#use tfidvectorizer to transform data\n",
    "from sklearn.feature_extraction.text import TfidfVectorizer\n",
    "vectorizer=TfidfVectorizer(stop_words = 'english', max_features = 1000)\n",
    "vectors_train = vectorizer.fit_transform(X_train).toarray()\n",
    "\n",
    "words=vectorizer.get_feature_names()\n",
    "\n",
    "doc_matrix=vectorizer.transform(documents).toarray()"
   ]
  },
  {
   "cell_type": "code",
   "execution_count": 17,
   "metadata": {},
   "outputs": [
    {
     "data": {
      "text/plain": [
       "(473382, 485)"
      ]
     },
     "execution_count": 17,
     "metadata": {},
     "output_type": "execute_result"
    }
   ],
   "source": [
    "doc_matrix.shape"
   ]
  },
  {
   "cell_type": "code",
   "execution_count": 20,
   "metadata": {},
   "outputs": [
    {
     "data": {
      "text/plain": [
       "485"
      ]
     },
     "execution_count": 20,
     "metadata": {},
     "output_type": "execute_result"
    }
   ],
   "source": [
    "len(words)"
   ]
  },
  {
   "cell_type": "code",
   "execution_count": null,
   "metadata": {
    "collapsed": true
   },
   "outputs": [],
   "source": [
    "# there are less than 1000 words"
   ]
  },
  {
   "cell_type": "code",
   "execution_count": 19,
   "metadata": {},
   "outputs": [
    {
     "data": {
      "text/plain": [
       "(473382,)"
      ]
     },
     "execution_count": 19,
     "metadata": {},
     "output_type": "execute_result"
    }
   ],
   "source": [
    "documents.shape"
   ]
  },
  {
   "cell_type": "code",
   "execution_count": 23,
   "metadata": {},
   "outputs": [
    {
     "data": {
      "text/plain": [
       "KMeans(algorithm='auto', copy_x=True, init='k-means++', max_iter=300,\n",
       "    n_clusters=8, n_init=10, n_jobs=-1, precompute_distances='auto',\n",
       "    random_state=None, tol=0.0001, verbose=0)"
      ]
     },
     "execution_count": 23,
     "metadata": {},
     "output_type": "execute_result"
    }
   ],
   "source": [
    "from sklearn.cluster import KMeans\n",
    "kmeans=KMeans(n_jobs=-1)\n",
    "kmeans.fit(doc_matrix)"
   ]
  },
  {
   "cell_type": "code",
   "execution_count": null,
   "metadata": {
    "collapsed": true
   },
   "outputs": [],
   "source": [
    "# find the top 10 features for each cluster"
   ]
  },
  {
   "cell_type": "code",
   "execution_count": 24,
   "metadata": {},
   "outputs": [
    {
     "name": "stdout",
     "output_type": "stream",
     "text": [
      "top 10 features for each cluster:\n",
      "0: breakfast, brunch, american, traditional, restaurants, sandwiches, new, burgers, buffets, diners\n",
      "1: japanese, sushi, bars, restaurants, fusion, asian, ramen, noodles, seafood, tapas\n",
      "2: mexican, restaurants, tacos, nightlife, fast, bars, food, mex, tex, brunch\n",
      "3: bars, nightlife, american, wine, restaurants, new, cocktail, traditional, sports, beer\n",
      "4: pizza, italian, restaurants, sandwiches, salad, wings, chicken, seafood, food, american\n",
      "5: food, fast, event, restaurants, services, planning, burgers, specialty, caterers, sandwiches\n",
      "6: restaurants, american, chinese, new, traditional, steakhouses, seafood, buffets, thai, burgers\n",
      "7: tea, coffee, food, cafes, brunch, breakfast, restaurants, desserts, bubble, bakeries\n"
     ]
    }
   ],
   "source": [
    "top_centroids = kmeans.cluster_centers_.argsort()[:, -1:-11:-1]\n",
    "print(\"top 10 features for each cluster:\")\n",
    "for num, centroid in enumerate(top_centroids):\n",
    "    print(\"%d: %s\" % (num, \", \".join(words[i] for i in centroid)))"
   ]
  },
  {
   "cell_type": "markdown",
   "metadata": {},
   "source": [
    "###  Here i think  clusters are more distinct from each other. for example, cluster 0 is more American traditional food including breakfast and brunch, and cluster 1 is Japanese/Asian type, cluster 2 is mexicanmex/tex... each one is very unique from the rest. But this is expected, since the catgory column already has summarized information compared with the reviews"
   ]
  },
  {
   "cell_type": "code",
   "execution_count": null,
   "metadata": {
    "collapsed": true
   },
   "outputs": [],
   "source": []
  },
  {
   "cell_type": "code",
   "execution_count": null,
   "metadata": {
    "collapsed": true
   },
   "outputs": [],
   "source": []
  }
 ],
 "metadata": {
  "anaconda-cloud": {},
  "kernelspec": {
   "display_name": "Python 3",
   "language": "python",
   "name": "python3"
  },
  "language_info": {
   "codemirror_mode": {
    "name": "ipython",
    "version": 3
   },
   "file_extension": ".py",
   "mimetype": "text/x-python",
   "name": "python",
   "nbconvert_exporter": "python",
   "pygments_lexer": "ipython3",
   "version": "3.6.3"
  }
 },
 "nbformat": 4,
 "nbformat_minor": 1
}
